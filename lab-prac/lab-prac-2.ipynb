{
 "cells": [
  {
   "cell_type": "code",
   "execution_count": 5,
   "metadata": {},
   "outputs": [
    {
     "name": "stdout",
     "output_type": "stream",
     "text": [
      "()\n",
      "Hello world\n"
     ]
    }
   ],
   "source": [
    "import numpy as np\n",
    "import pandas as pd\n",
    "import matplotlib.pyplot as plt\n",
    "\n",
    "my_tuple = ()\n",
    "print(my_tuple)\n",
    "type(my_tuple)\n",
    "print(\"Hello world\")"
   ]
  },
  {
   "cell_type": "code",
   "execution_count": 13,
   "metadata": {},
   "outputs": [
    {
     "name": "stdout",
     "output_type": "stream",
     "text": [
      "10\n",
      "20\n",
      "30\n",
      "40\n",
      "50\n"
     ]
    }
   ],
   "source": [
    "my_tuple_2 = (10,20,30,40,50)\n",
    "\n",
    "for i in range(len(my_tuple_2)):\n",
    "    print(my_tuple_2[i])\n",
    "    "
   ]
  },
  {
   "cell_type": "code",
   "execution_count": 16,
   "metadata": {},
   "outputs": [
    {
     "name": "stdout",
     "output_type": "stream",
     "text": [
      "1\n",
      "Hello\n",
      "(10, 20, 30, 40, 50)\n",
      "<class 'tuple'>\n"
     ]
    }
   ],
   "source": [
    "my_tuple_3 = (1,\"Hello\", my_tuple_2)\n",
    "\n",
    "for i in range(len(my_tuple_3)):\n",
    "    print(my_tuple_3[i])\n",
    "\n",
    "print(type(my_tuple_3))"
   ]
  },
  {
   "cell_type": "code",
   "execution_count": 18,
   "metadata": {},
   "outputs": [
    {
     "name": "stdout",
     "output_type": "stream",
     "text": [
      "<class 'str'>\n",
      "<class 'list'>\n",
      "<class 'tuple'>\n"
     ]
    }
   ],
   "source": [
    "my_tuple_4 = (\"mouse\",[8,4,6],(1,2,3))\n",
    "\n",
    "for i in range(len(my_tuple_4)):\n",
    "    print(type(my_tuple_4[i]))\n"
   ]
  },
  {
   "cell_type": "code",
   "execution_count": 20,
   "metadata": {},
   "outputs": [
    {
     "name": "stdout",
     "output_type": "stream",
     "text": [
      "<class 'str'>\n"
     ]
    }
   ],
   "source": [
    "my_tuple_5 = (\"Hello world\")\n",
    "print(type(my_tuple_5))"
   ]
  },
  {
   "cell_type": "code",
   "execution_count": 34,
   "metadata": {},
   "outputs": [
    {
     "name": "stdout",
     "output_type": "stream",
     "text": [
      "<class 'tuple'>\n",
      "This is the second element of the list = 2\n"
     ]
    }
   ],
   "source": [
    "# Here I created a tuple without using the brackets\n",
    "my_tuple_6 = \"Hello\",10,\"Hello again tuple\",2002,[1,2,3,4,5],(1,2,3,4)\n",
    "print(type(my_tuple_6))\n",
    "# Accessing the elements using the index same as the 2-d arrays\n",
    "print(\"This is the second element of the list = \" + str(my_tuple_6[3][1]))"
   ]
  },
  {
   "cell_type": "code",
   "execution_count": 37,
   "metadata": {},
   "outputs": [
    {
     "name": "stdout",
     "output_type": "stream",
     "text": [
      "This is the second element of the list = 20\n"
     ]
    }
   ],
   "source": [
    "# WE still won't be able to change the list's index of a tuple element\n",
    "my_tuple_6[3][1] = 20\n",
    "print(\"This is the second element of the list = \" + str(my_tuple_6[3][1]))"
   ]
  },
  {
   "cell_type": "code",
   "execution_count": 42,
   "metadata": {},
   "outputs": [
    {
     "ename": "TypeError",
     "evalue": "'tuple' object does not support item assignment",
     "output_type": "error",
     "traceback": [
      "\u001b[1;31m---------------------------------------------------------------------------\u001b[0m",
      "\u001b[1;31mTypeError\u001b[0m                                 Traceback (most recent call last)",
      "Cell \u001b[1;32mIn[42], line 2\u001b[0m\n\u001b[0;32m      1\u001b[0m \u001b[38;5;66;03m# you won't be able to change the tuple which is inside a tuple\u001b[39;00m\n\u001b[1;32m----> 2\u001b[0m \u001b[43mmy_tuple_6\u001b[49m\u001b[43m[\u001b[49m\u001b[38;5;241;43m4\u001b[39;49m\u001b[43m]\u001b[49m\u001b[43m[\u001b[49m\u001b[38;5;241;43m1\u001b[39;49m\u001b[43m]\u001b[49m \u001b[38;5;241m=\u001b[39m \u001b[38;5;241m20\u001b[39m\n\u001b[0;32m      3\u001b[0m \u001b[38;5;28mprint\u001b[39m(\u001b[38;5;124m\"\u001b[39m\u001b[38;5;124mThis is the second element of the list = \u001b[39m\u001b[38;5;124m\"\u001b[39m \u001b[38;5;241m+\u001b[39m \u001b[38;5;28mstr\u001b[39m(my_tuple_6[\u001b[38;5;241m4\u001b[39m][\u001b[38;5;241m1\u001b[39m]))\n",
      "\u001b[1;31mTypeError\u001b[0m: 'tuple' object does not support item assignment"
     ]
    }
   ],
   "source": [
    "# you won't be able to change the tuple which is inside a tuple\n",
    "my_tuple_6[4][1] = 20\n",
    "print(\"This is the second element of the list = \" + str(my_tuple_6[4][1]))"
   ]
  },
  {
   "cell_type": "code",
   "execution_count": 43,
   "metadata": {},
   "outputs": [
    {
     "name": "stdout",
     "output_type": "stream",
     "text": [
      "10\n",
      "Hello again tuple\n",
      "2002\n",
      "[1, 20, 3, 4, 5]\n",
      "(1, 2, 3, 4)\n"
     ]
    }
   ],
   "source": [
    "for i in range(len(my_tuple_6)):\n",
    "    print(my_tuple_6[i])"
   ]
  },
  {
   "cell_type": "code",
   "execution_count": 45,
   "metadata": {},
   "outputs": [
    {
     "name": "stdout",
     "output_type": "stream",
     "text": [
      "False\n"
     ]
    }
   ],
   "source": [
    "print('e' in my_tuple_6)"
   ]
  },
  {
   "cell_type": "code",
   "execution_count": 47,
   "metadata": {},
   "outputs": [
    {
     "name": "stdout",
     "output_type": "stream",
     "text": [
      "False\n"
     ]
    }
   ],
   "source": [
    "a = input(str(\"Enter a string =\"))\n",
    "print(a in my_tuple_6)"
   ]
  }
 ],
 "metadata": {
  "kernelspec": {
   "display_name": "Python 3",
   "language": "python",
   "name": "python3"
  },
  "language_info": {
   "codemirror_mode": {
    "name": "ipython",
    "version": 3
   },
   "file_extension": ".py",
   "mimetype": "text/x-python",
   "name": "python",
   "nbconvert_exporter": "python",
   "pygments_lexer": "ipython3",
   "version": "3.11.3"
  }
 },
 "nbformat": 4,
 "nbformat_minor": 2
}
