{
  "cells": [
    {
      "cell_type": "code",
      "execution_count": 1,
      "metadata": {
        "colab": {
          "base_uri": "https://localhost:8080/",
          "height": 263
        },
        "id": "UBW4Fm9qNV0b",
        "outputId": "27a45a04-6ca7-4b02-d556-22994bec6212"
      },
      "outputs": [
        {
          "name": "stderr",
          "output_type": "stream",
          "text": [
            "WARNING: pip is being invoked by an old script wrapper. This will fail in a future version of pip.\n",
            "Please see https://github.com/pypa/pip/issues/5599 for advice on fixing the underlying issue.\n",
            "To avoid this problem you can invoke Python with '-m pip' instead of running pip directly.\n"
          ]
        },
        {
          "data": {
            "text/html": [
              "<pre style=\"white-space:pre;overflow-x:auto;line-height:normal;font-family:Menlo,'DejaVu Sans Mono',consolas,'Courier New',monospace\">Requirement already satisfied: gTTS in c:\\python311\\lib\\site-packages (2.5.1)\n",
              "</pre>\n"
            ],
            "text/plain": [
              "Requirement already satisfied: gTTS in c:\\python311\\lib\\site-packages (2.5.1)\n"
            ]
          },
          "metadata": {},
          "output_type": "display_data"
        },
        {
          "data": {
            "text/html": [
              "<pre style=\"white-space:pre;overflow-x:auto;line-height:normal;font-family:Menlo,'DejaVu Sans Mono',consolas,'Courier New',monospace\">Requirement already satisfied: requests&lt;3,&gt;=2.27 in c:\\python311\\lib\\site-packages (from gTTS) (2.31.0)\n",
              "</pre>\n"
            ],
            "text/plain": [
              "Requirement already satisfied: requests<3,>=2.27 in c:\\python311\\lib\\site-packages (from gTTS) (2.31.0)\n"
            ]
          },
          "metadata": {},
          "output_type": "display_data"
        },
        {
          "data": {
            "text/html": [
              "<pre style=\"white-space:pre;overflow-x:auto;line-height:normal;font-family:Menlo,'DejaVu Sans Mono',consolas,'Courier New',monospace\">Requirement already satisfied: click&lt;8.2,&gt;=7.1 in c:\\python311\\lib\\site-packages (from gTTS) (8.1.7)\n",
              "</pre>\n"
            ],
            "text/plain": [
              "Requirement already satisfied: click<8.2,>=7.1 in c:\\python311\\lib\\site-packages (from gTTS) (8.1.7)\n"
            ]
          },
          "metadata": {},
          "output_type": "display_data"
        },
        {
          "data": {
            "text/html": [
              "<pre style=\"white-space:pre;overflow-x:auto;line-height:normal;font-family:Menlo,'DejaVu Sans Mono',consolas,'Courier New',monospace\">Requirement already satisfied: colorama in c:\\python311\\lib\\site-packages (from click&lt;8.2,&gt;=7.1-&gt;gTTS) (0.4.6)\n",
              "</pre>\n"
            ],
            "text/plain": [
              "Requirement already satisfied: colorama in c:\\python311\\lib\\site-packages (from click<8.2,>=7.1->gTTS) (0.4.6)\n"
            ]
          },
          "metadata": {},
          "output_type": "display_data"
        },
        {
          "data": {
            "text/html": [
              "<pre style=\"white-space:pre;overflow-x:auto;line-height:normal;font-family:Menlo,'DejaVu Sans Mono',consolas,'Courier New',monospace\">Requirement already satisfied: charset-normalizer&lt;4,&gt;=2 in c:\\python311\\lib\\site-packages (from requests&lt;3,&gt;=2.27-&gt;gTTS) (3.3.2)\n",
              "</pre>\n"
            ],
            "text/plain": [
              "Requirement already satisfied: charset-normalizer<4,>=2 in c:\\python311\\lib\\site-packages (from requests<3,>=2.27->gTTS) (3.3.2)\n"
            ]
          },
          "metadata": {},
          "output_type": "display_data"
        },
        {
          "data": {
            "text/html": [
              "<pre style=\"white-space:pre;overflow-x:auto;line-height:normal;font-family:Menlo,'DejaVu Sans Mono',consolas,'Courier New',monospace\">Requirement already satisfied: idna&lt;4,&gt;=2.5 in c:\\python311\\lib\\site-packages (from requests&lt;3,&gt;=2.27-&gt;gTTS) (3.6)\n",
              "</pre>\n"
            ],
            "text/plain": [
              "Requirement already satisfied: idna<4,>=2.5 in c:\\python311\\lib\\site-packages (from requests<3,>=2.27->gTTS) (3.6)\n"
            ]
          },
          "metadata": {},
          "output_type": "display_data"
        },
        {
          "data": {
            "text/html": [
              "<pre style=\"white-space:pre;overflow-x:auto;line-height:normal;font-family:Menlo,'DejaVu Sans Mono',consolas,'Courier New',monospace\">Requirement already satisfied: urllib3&lt;3,&gt;=1.21.1 in c:\\python311\\lib\\site-packages (from requests&lt;3,&gt;=2.27-&gt;gTTS) (2.1.0)\n",
              "</pre>\n"
            ],
            "text/plain": [
              "Requirement already satisfied: urllib3<3,>=1.21.1 in c:\\python311\\lib\\site-packages (from requests<3,>=2.27->gTTS) (2.1.0)\n"
            ]
          },
          "metadata": {},
          "output_type": "display_data"
        },
        {
          "data": {
            "text/html": [
              "<pre style=\"white-space:pre;overflow-x:auto;line-height:normal;font-family:Menlo,'DejaVu Sans Mono',consolas,'Courier New',monospace\">Requirement already satisfied: certifi&gt;=2017.4.17 in c:\\python311\\lib\\site-packages (from requests&lt;3,&gt;=2.27-&gt;gTTS) (2023.11.17)\n",
              "</pre>\n"
            ],
            "text/plain": [
              "Requirement already satisfied: certifi>=2017.4.17 in c:\\python311\\lib\\site-packages (from requests<3,>=2.27->gTTS) (2023.11.17)\n"
            ]
          },
          "metadata": {},
          "output_type": "display_data"
        },
        {
          "data": {
            "text/html": [
              "<pre style=\"white-space:pre;overflow-x:auto;line-height:normal;font-family:Menlo,'DejaVu Sans Mono',consolas,'Courier New',monospace\">\n",
              "<span style=\"font-weight: bold\">[</span><span style=\"color: #000080; text-decoration-color: #000080; background-color: #ffffff\">notice</span><span style=\"color: #000000; text-decoration-color: #000000; background-color: #ffffff; font-weight: bold\">]</span><span style=\"color: #000000; text-decoration-color: #000000; background-color: #ffffff\"> A new release of pip is available: </span><span style=\"color: #800000; text-decoration-color: #800000; background-color: #ffffff\">23.3.2</span><span style=\"color: #000000; text-decoration-color: #000000; background-color: #ffffff\"> -&gt; </span><span style=\"color: #008000; text-decoration-color: #008000; background-color: #ffffff\">24.0</span>\n",
              "<span style=\"font-weight: bold\">[</span><span style=\"color: #000080; text-decoration-color: #000080; background-color: #ffffff\">notice</span><span style=\"color: #000000; text-decoration-color: #000000; background-color: #ffffff; font-weight: bold\">]</span><span style=\"color: #000000; text-decoration-color: #000000; background-color: #ffffff\"> To update, run: </span><span style=\"color: #008000; text-decoration-color: #008000; background-color: #ffffff\">python.exe -m pip install --upgrade pip</span>\n",
              "</pre>\n"
            ],
            "text/plain": [
              "\n",
              "\u001b[1m[\u001b[0m\u001b[34;49mnotice\u001b[0m\u001b[1;39;49m]\u001b[0m\u001b[39;49m A new release of pip is available: \u001b[0m\u001b[31;49m23.3.2\u001b[0m\u001b[39;49m -> \u001b[0m\u001b[32;49m24.0\u001b[0m\n",
              "\u001b[1m[\u001b[0m\u001b[34;49mnotice\u001b[0m\u001b[1;39;49m]\u001b[0m\u001b[39;49m To update, run: \u001b[0m\u001b[32;49mpython.exe -m pip install --upgrade pip\u001b[0m\n"
            ]
          },
          "metadata": {},
          "output_type": "display_data"
        },
        {
          "data": {
            "text/html": [
              "\n",
              "                <audio  controls=\"controls\" autoplay=\"autoplay\">\n",
              "                    <source src=\"data:audio/wav;base64,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\" type=\"audio/wav\" />\n",
              "                    Your browser does not support the audio element.\n",
              "                </audio>\n",
              "              "
            ],
            "text/plain": [
              "<IPython.lib.display.Audio object>"
            ]
          },
          "execution_count": 1,
          "metadata": {},
          "output_type": "execute_result"
        }
      ],
      "source": [
        "import pip\n",
        "\n",
        "def install(package):\n",
        "    pip.main(['install', package])\n",
        "\n",
        "# Example\n",
        "if __name__ == '__main__':\n",
        "    install('gTTS')\n",
        "\n",
        "from gtts import gTTS\n",
        "from IPython.display import Audio\n",
        "s = 'I am a natural language processing library created from google '\n",
        "tts = gTTS(s)\n",
        "tts.save('1.wav')\n",
        "sound_file = '1.wav'\n",
        "Audio(sound_file, autoplay=True)"
      ]
    },
    {
      "cell_type": "code",
      "execution_count": 5,
      "metadata": {
        "colab": {
          "base_uri": "https://localhost:8080/"
        },
        "id": "2zaJlmg4NnNj",
        "outputId": "9f31af92-8c5d-45ff-ca22-09282d1db54f"
      },
      "outputs": [
        {
          "name": "stderr",
          "output_type": "stream",
          "text": [
            "[nltk_data] Downloading package punkt to\n",
            "[nltk_data]     C:\\Users\\risha\\AppData\\Roaming\\nltk_data...\n",
            "[nltk_data]   Package punkt is already up-to-date!\n",
            "[nltk_data] Downloading package averaged_perceptron_tagger to\n",
            "[nltk_data]     C:\\Users\\risha\\AppData\\Roaming\\nltk_data...\n",
            "[nltk_data]   Package averaged_perceptron_tagger is already up-to-\n",
            "[nltk_data]       date!\n"
          ]
        },
        {
          "data": {
            "text/plain": [
              "[('There', 'EX'),\n",
              " ('is', 'VBZ'),\n",
              " ('an', 'DT'),\n",
              " ('assesment', 'NN'),\n",
              " ('in', 'IN'),\n",
              " ('AI', 'NNP'),\n",
              " ('tomorrow', 'NN')]"
            ]
          },
          "execution_count": 5,
          "metadata": {},
          "output_type": "execute_result"
        }
      ],
      "source": [
        "import nltk\n",
        "import nltk.corpus\n",
        "nltk.download('punkt')\n",
        "\n",
        "#Tokenization\n",
        "from nltk.tokenize import word_tokenize\n",
        "chess = \"Samay Raina is the best chess streamer in the world\"\n",
        "word_tokenize(chess)\n",
        "\n",
        "#sentence tokenizer\n",
        "from nltk.tokenize import sent_tokenize\n",
        "chess2 = \"Samay Raina is the best chess streamer in the world. Sagar Shah is the best chess coach in the world\"\n",
        "sent_tokenize(chess2)\n",
        "\n",
        "#Checking the number of tokens\",\n",
        "len(word_tokenize(chess))\n",
        "\n",
        "#bigrams and n-grams\n",
        "teacher = \"Can anybody hear me or am I talking to myself? My mind is running empty in the response of my students\"\n",
        "teacher_token=(word_tokenize(teacher))\n",
        "list(nltk.bigrams(teacher_token))\n",
        "\n",
        "list(nltk.trigrams(teacher_token))\n",
        "list(nltk.ngrams(teacher_token,5))\n",
        "\n",
        "#Stemming\n",
        "from nltk.stem import PorterStemmer\n",
        "my_stem = PorterStemmer()\n",
        "my_stem.stem(\"shopping\")\n",
        "my_stem.stem(\"going\")\n",
        "\n",
        "\n",
        "#pos-tagging\n",
        "tom = \"There is an assesment in AI tomorrow\"\n",
        "tom_token = word_tokenize(tom)\n",
        "nltk.download('averaged_perceptron_tagger')\n",
        "nltk.pos_tag(tom_token)\n"
      ]
    }
  ],
  "metadata": {
    "colab": {
      "provenance": []
    },
    "kernelspec": {
      "display_name": "Python 3",
      "name": "python3"
    },
    "language_info": {
      "codemirror_mode": {
        "name": "ipython",
        "version": 3
      },
      "file_extension": ".py",
      "mimetype": "text/x-python",
      "name": "python",
      "nbconvert_exporter": "python",
      "pygments_lexer": "ipython3",
      "version": "3.11.3"
    }
  },
  "nbformat": 4,
  "nbformat_minor": 0
}
