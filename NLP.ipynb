{
  "cells": [
    {
      "cell_type": "code",
      "execution_count": 8,
      "metadata": {
        "colab": {
          "base_uri": "https://localhost:8080/",
          "height": 263
        },
        "id": "UBW4Fm9qNV0b",
        "outputId": "27a45a04-6ca7-4b02-d556-22994bec6212"
      },
      "outputs": [
        {
          "name": "stderr",
          "output_type": "stream",
          "text": [
            "WARNING: pip is being invoked by an old script wrapper. This will fail in a future version of pip.\n",
            "Please see https://github.com/pypa/pip/issues/5599 for advice on fixing the underlying issue.\n",
            "To avoid this problem you can invoke Python with '-m pip' instead of running pip directly.\n"
          ]
        },
        {
          "data": {
            "text/html": [
              "<pre style=\"white-space:pre;overflow-x:auto;line-height:normal;font-family:Menlo,'DejaVu Sans Mono',consolas,'Courier New',monospace\">Requirement already satisfied: gTTS in c:\\python311\\lib\\site-packages (2.5.1)\n",
              "</pre>\n"
            ],
            "text/plain": [
              "Requirement already satisfied: gTTS in c:\\python311\\lib\\site-packages (2.5.1)\n"
            ]
          },
          "metadata": {},
          "output_type": "display_data"
        },
        {
          "data": {
            "text/html": [
              "<pre style=\"white-space:pre;overflow-x:auto;line-height:normal;font-family:Menlo,'DejaVu Sans Mono',consolas,'Courier New',monospace\">Requirement already satisfied: requests&lt;3,&gt;=2.27 in c:\\python311\\lib\\site-packages (from gTTS) (2.31.0)\n",
              "</pre>\n"
            ],
            "text/plain": [
              "Requirement already satisfied: requests<3,>=2.27 in c:\\python311\\lib\\site-packages (from gTTS) (2.31.0)\n"
            ]
          },
          "metadata": {},
          "output_type": "display_data"
        },
        {
          "data": {
            "text/html": [
              "<pre style=\"white-space:pre;overflow-x:auto;line-height:normal;font-family:Menlo,'DejaVu Sans Mono',consolas,'Courier New',monospace\">Requirement already satisfied: click&lt;8.2,&gt;=7.1 in c:\\python311\\lib\\site-packages (from gTTS) (8.1.7)\n",
              "</pre>\n"
            ],
            "text/plain": [
              "Requirement already satisfied: click<8.2,>=7.1 in c:\\python311\\lib\\site-packages (from gTTS) (8.1.7)\n"
            ]
          },
          "metadata": {},
          "output_type": "display_data"
        },
        {
          "data": {
            "text/html": [
              "<pre style=\"white-space:pre;overflow-x:auto;line-height:normal;font-family:Menlo,'DejaVu Sans Mono',consolas,'Courier New',monospace\">Requirement already satisfied: colorama in c:\\python311\\lib\\site-packages (from click&lt;8.2,&gt;=7.1-&gt;gTTS) (0.4.6)\n",
              "</pre>\n"
            ],
            "text/plain": [
              "Requirement already satisfied: colorama in c:\\python311\\lib\\site-packages (from click<8.2,>=7.1->gTTS) (0.4.6)\n"
            ]
          },
          "metadata": {},
          "output_type": "display_data"
        },
        {
          "data": {
            "text/html": [
              "<pre style=\"white-space:pre;overflow-x:auto;line-height:normal;font-family:Menlo,'DejaVu Sans Mono',consolas,'Courier New',monospace\">Requirement already satisfied: charset-normalizer&lt;4,&gt;=2 in c:\\python311\\lib\\site-packages (from requests&lt;3,&gt;=2.27-&gt;gTTS) (3.3.2)\n",
              "</pre>\n"
            ],
            "text/plain": [
              "Requirement already satisfied: charset-normalizer<4,>=2 in c:\\python311\\lib\\site-packages (from requests<3,>=2.27->gTTS) (3.3.2)\n"
            ]
          },
          "metadata": {},
          "output_type": "display_data"
        },
        {
          "data": {
            "text/html": [
              "<pre style=\"white-space:pre;overflow-x:auto;line-height:normal;font-family:Menlo,'DejaVu Sans Mono',consolas,'Courier New',monospace\">Requirement already satisfied: idna&lt;4,&gt;=2.5 in c:\\python311\\lib\\site-packages (from requests&lt;3,&gt;=2.27-&gt;gTTS) (3.6)\n",
              "</pre>\n"
            ],
            "text/plain": [
              "Requirement already satisfied: idna<4,>=2.5 in c:\\python311\\lib\\site-packages (from requests<3,>=2.27->gTTS) (3.6)\n"
            ]
          },
          "metadata": {},
          "output_type": "display_data"
        },
        {
          "data": {
            "text/html": [
              "<pre style=\"white-space:pre;overflow-x:auto;line-height:normal;font-family:Menlo,'DejaVu Sans Mono',consolas,'Courier New',monospace\">Requirement already satisfied: urllib3&lt;3,&gt;=1.21.1 in c:\\python311\\lib\\site-packages (from requests&lt;3,&gt;=2.27-&gt;gTTS) (2.1.0)\n",
              "</pre>\n"
            ],
            "text/plain": [
              "Requirement already satisfied: urllib3<3,>=1.21.1 in c:\\python311\\lib\\site-packages (from requests<3,>=2.27->gTTS) (2.1.0)\n"
            ]
          },
          "metadata": {},
          "output_type": "display_data"
        },
        {
          "data": {
            "text/html": [
              "<pre style=\"white-space:pre;overflow-x:auto;line-height:normal;font-family:Menlo,'DejaVu Sans Mono',consolas,'Courier New',monospace\">Requirement already satisfied: certifi&gt;=2017.4.17 in c:\\python311\\lib\\site-packages (from requests&lt;3,&gt;=2.27-&gt;gTTS) (2023.11.17)\n",
              "</pre>\n"
            ],
            "text/plain": [
              "Requirement already satisfied: certifi>=2017.4.17 in c:\\python311\\lib\\site-packages (from requests<3,>=2.27->gTTS) (2023.11.17)\n"
            ]
          },
          "metadata": {},
          "output_type": "display_data"
        },
        {
          "data": {
            "text/html": [
              "<pre style=\"white-space:pre;overflow-x:auto;line-height:normal;font-family:Menlo,'DejaVu Sans Mono',consolas,'Courier New',monospace\">\n",
              "<span style=\"font-weight: bold\">[</span><span style=\"color: #000080; text-decoration-color: #000080; background-color: #ffffff\">notice</span><span style=\"color: #000000; text-decoration-color: #000000; background-color: #ffffff; font-weight: bold\">]</span><span style=\"color: #000000; text-decoration-color: #000000; background-color: #ffffff\"> A new release of pip is available: </span><span style=\"color: #800000; text-decoration-color: #800000; background-color: #ffffff\">23.3.2</span><span style=\"color: #000000; text-decoration-color: #000000; background-color: #ffffff\"> -&gt; </span><span style=\"color: #008000; text-decoration-color: #008000; background-color: #ffffff\">24.0</span>\n",
              "<span style=\"font-weight: bold\">[</span><span style=\"color: #000080; text-decoration-color: #000080; background-color: #ffffff\">notice</span><span style=\"color: #000000; text-decoration-color: #000000; background-color: #ffffff; font-weight: bold\">]</span><span style=\"color: #000000; text-decoration-color: #000000; background-color: #ffffff\"> To update, run: </span><span style=\"color: #008000; text-decoration-color: #008000; background-color: #ffffff\">python.exe -m pip install --upgrade pip</span>\n",
              "</pre>\n"
            ],
            "text/plain": [
              "\n",
              "\u001b[1m[\u001b[0m\u001b[34;49mnotice\u001b[0m\u001b[1;39;49m]\u001b[0m\u001b[39;49m A new release of pip is available: \u001b[0m\u001b[31;49m23.3.2\u001b[0m\u001b[39;49m -> \u001b[0m\u001b[32;49m24.0\u001b[0m\n",
              "\u001b[1m[\u001b[0m\u001b[34;49mnotice\u001b[0m\u001b[1;39;49m]\u001b[0m\u001b[39;49m To update, run: \u001b[0m\u001b[32;49mpython.exe -m pip install --upgrade pip\u001b[0m\n"
            ]
          },
          "metadata": {},
          "output_type": "display_data"
        },
        {
          "data": {
            "text/html": [
              "\n",
              "                <audio  controls=\"controls\" autoplay=\"autoplay\">\n",
              "                    <source src=\"data:audio/wav;base64,//NExAAR2AnoAUIYAAMWD58oCYPg+D5/+JwfBAEAQBAEwff/5cEAQBAEAG/ggCAIAgnwfB8//y4OAgGJcEAQBAEATB8HwfB8EAQBAEAGD4P/lwfD6vzkIQBqEk/QhVuB//NExAsUokpUAY9oAFn+KGW+5u8YYPAX/y+bvCrhygvAcz+g0nuX1N/+pCxmZ/+noD3OKNC+Zm3/Qv+gmaH2dBNX/+3QZ+fUChYKh0j/+f70pFLxSv4x35DUaldymYHX//NExAsUcc6oAY+AAEvhzczjMjFQ5xGl4SQBdAb1mx5hkCLEIUw2AU0Zsu3fTdWSaSSDf9fXmBp/OI1rcuEMIgaMmbk3/2LhmkmkiqT83PiAac+m4VbUFRGCHl4nXinW//NExAwVcSq8AY+QAMa6FlEa4bZiD5HUGmjHBjABRDQFABtMGsi4BCUmzolwzoswZMToF3D0Lexq2V00GQMjRC/op+v7pJHwgbPtYsLDCYOEGoibpDOu53GOqWLOqfKk//NExAkTuS64AdhoAKiVZXH2QB0+cGqrLFs2XJWQCrvM/AwwDaBUDCj1CogSAmZgPc6IEHMTMp67rQb/6mqU7aKDMeBKu5DSqAIgWBmhj9mduCHDndDqED9X55GZvf1p//NExA0VGZqwAMYGlCNGly6mgwKgMY2hyqGltHkbF4jKL7FX32tIEgTTV5CbbYXEvcrSqailiai37ufP49UxQauZr02PzPw/tFHOkH54wPv/F6dtasddsO0L7kVBnEhK//NExAsVAZKwAMYGlHI/5Boti1RTuQW1FpNjJS1o0O3S1GlMX7nk+K05FjSwYmM6k9arUcsusFnfHPclt4JPokCaWefIdPWIfWSHRmSLbK2oTW4aLZjyVCDDAWx0WSHL//NExAoRGSa8AIvYcMbMAFkMM84fCTBI0vvcI5ojJjDc5LHatCUy/xyCJMM4nVqy9vn79OzX8pN8+bwXWa0PX9ehAmdZ/70113mctENSbE/ypPjhp6WO4gwKoQPMi5Ft//NExBgSgSawAMPMcC+Ypm1lbH/rSKEa6tIu5IOhVF/KPZmkrI8p4mmxVpODpllrpMyoSF3hQGwkZLevQsiQ1z+XwsOeAj29/BhQYXA/NVToLI8KYvVuia/8GPv/eYmv//NExCEROYqwAMvKlJzd483tuDQw55UFmJjDEHqwiFAcPuPVqdvR/W7DFQSettf/1N3rdI7YUUHaXvGrucdiSBxRX9qG+2SsDzulqsCH7x/tln/+GB7fEHocrfvJTB4///NExC8Q+YKkANPKlUMWWgkOUh2GhwG+2n+tTIyC0buD9Wgy6u15QUxKxDwrPBwhTQTpAgBS1WovZ2WW0AJaUqugzQk8XKHHrZJDqnbHz56rYW/bMBimzV0RuEZNFc1L//NExD4SaYaIAOPElO66f/1KrIEHFlAsilYH3chE8wEBAw/N87XN4xHBMwGABAAieJAKYBgJZ3a8UdqP3/8K/xL4gT13SfCu+cbwv518EEhzUUSB3XirX2//b7+oQAgp//NExEcSSYJ8AOvKlTD9VXtfJyl0lqjCYtTkZNgUSqMat6bxQBhgADrQ+prnQl3dcvh6L72LgqkI0TnSsoIvZFSbaFsjuh7XDEaYyp//9WOvASPYPfWqhnOVzTxggsMO//NExFARiYKAAOtElPOAldwG+4Ys0pB53QlNq88bf2sY8NPlGxIez223BK2xDHBgkECSLKwot769JBgPm9uH4Lg6Tn/9Nc6btNHhCGe9yOawDLVVUvB8kFpNbNDBQC9i//NExFwQWJKUAN4eTExFk0nI8Sey0DIdjE6dNSkUSsa6atT7/b5G6gYoWVlX9ft6qgYGKRDT9ZHWGs76IJ0BJQTwppsQhDNzgcgb6Sq8dJAEbvP0ojni61eUwDFkkPgt//NExG0RQYakAMyElNHc2Td811T71/PyKpForrWioym2+YilQAMxRMt0XqbWaKzWzbhgdET0Zwt9XklGBAwxK8AyKs5Qx5S/gJ59ZjRpz/MKsR4xLAOplfRUktMYmKEx//NExHsR+ZakANPElGkC0Obdt7viu/4h1m2CkCZhaKhNILUjfQyPNXEwGOSA6lz+/6GuTA1Ih1bv////96DdSXYrWm0jDE7TO7FcBCmTLtGQgZCaxmA6hgcURhxQAzGA//NExIYZKd6MANvGmCYSV9wEGOAke4/Joahl3VhC8TTrdPQyWdpaXVPajsZyxqKOSqEI8l0ZJn+XBbznf7r/crv5qcz+WqwwKRS1YIlw3JMHPCBGLECi1DH11/9H/9jR//NExHQdGZZ8AOYMlMpLRv5tyQuHDRF/NIBlAmuICgIyceA6nkoKHgW3oVFBbZzJsOru2IRzZEoWdOPalUy/spn5FB0NcppiHY0/0Wpqm7X1dO0FzPEzPW1ubJamy5qs//NExFIe+c50AOZMlHqqZmePnas/meiYZRo3SMz+X9+5qAhKxsDMF5FLF31dElnko6BgCVqvM4hclSTo8Hn/iSUcWWMYOKnDogGKnDiQWBBNLL5a0QtQVqZNGd5vXQZS//NExCkUgY58AN4ElYrYzf/byu633WeW8uYbV3V3ZEIiOW7mdqVpXyMn5d3QZwj8q30d5rn7cmgeEdBjYpA38OgGnWyaAXEwVOSN8CITfCHoDAhlN5RL4Aaiu6euTdbm//NExCoR0YKAAN4ElVveOP7/HHmW+73jtmZr/98u/+3++hzuwclBL61+lVyW3LEAAcPNGBADE05AuZi6EFBG6saMEoS4i8pkZsQ6xoBgcYMyidtvo+tD3PVq/nypzEwu//NExDURKJqAAN6wTHz9tC6Gsb9OtAnfbcoSmEKmxyEICYFZqBvBOPIfSJjQS3YwwWQONeGF0MjLAYZjETEGumDAmAWBAWhhi60iN9s3cgCfABsLvJi5Sp0/E7Rju2pA//NExEMS+IaIAN70SMB4kGao9hIzKZzeiACM0GPzkeALQfDK5tCFMNklQEIqWqzGUDhkAqs14SQTBVeis670JgPnTe+8/8GLahU1H1CZqxyJdzj110mgOHgnheQWUSui//NExEoSQMqUANbEcNV24GZFr+U86YCciRlAssBoIeyCEQ+NEU4DWhg35ZFASOgTZDJk4RwGJHhfQxUOSNPOljpt268vR+7au9TNvvbVCXBEGtd2TtD+7bEblcp61Hwp//NExFQSeWaYAN0ElBTQhZc7BCTO9YXgtRaYAxOtdEd6BwU4AAMu9TZQsGYRosHKNwFT5Yymn7+8e////8L//7aroVgHuFDyFns7DGQwoACAxA2cNuQehw2Z/qq9jWeE//NExF0WIWqYANZGlC0dh8upEJpk2AcMj8oMO6OzFAyPS7V9CUOG76IRj0AqDZO8KgRgxCHdDeRTAlA4IHs/2/zHWjVMPWOsTPAJBVaKgqCpoEBr//GRgYr+4yoRfQRR//NExFcT4RKgANaOcJg9rTYheWAIEacFBzbiIgLsjQmkzi9+3BqgHZW5bkOE+BFuobM2GkGoJYoIkO4fFnVDZYiYeAhK5evCbRUE2g2TQvFFOtSMOuJlNaarrfVsnOAt//NExFoUsK6gAMZeTGNP8osZO0bQNDLvMxACx/tqvUVuLbQJUzqMCfSkvdiMHU+6lLMstpatLVlsP4flUxt/c/XPOocD4mNDriZ3qikRE8z1W10cTBRpSnma9j+1aFNU//NExFoYEeacANYKmXuKHF3e9irHO5VZ8AbARAkdmIr6NAzIid61gvw854W64Xc/tXLhv4tCh69rPov8HbW8soGxwfgsHqu4jn5IuYD48xrqnvWE/3vtpZI5gbO1uKOr//NExEwU2ZakANPQldGcP/qvprM15f/7IqwPcIahhKWfAVUAVbInnRZozZvuiSb8yTf7q/0nT+1jGQwPxNJb7MR2ocsUA8GxZayROUt6ztDGx5ZQ8C1BFjIbvFGa1MN2//NExEsTuSqgANUWcP///9TWt3I+M2HYrKKftRrRqhSfn72Cq+d0+I3j5u/+W0fSKfpF4YpSTV5YcIQNKYX6zf/ZOXq5hqNdyH6bf01dzq9Du7a1Ii0ai5GX2yN1FG6a//NExE8VSrKkAMoKuN5l5k0UAdWt/0SbgSI8oGurpWXOtRb/L/51NP8i5ShAoFJ1zqcsN+RoTkhGyH8/5Ww+//+cs8K27uWQ78z5KCkJ3WqJxeorCEGZzaPIyBAkjFci//NExEwf2yKkAHjSvAAIJWC6QYBMjCRIxBp7oFAoJFQPH8DcRRJlkuYFZPq8keHhhQ8kjAOaChs2VURvLAQeSgqPifpf///5/a8i/3D//3mZmZ2fp07PfM79tmcrOztv//NExB8Zwx6wAAhYvL3x+0HVaiWbdM7r7nnJ+frrKXWVbaRcpcaTIEKikDLdUg9ph3CXYxIqpOyaJC1bMECJwsMksgDvGylJRidCRDiJPJimLjzTqK//////////e8/t//NExAsRSx7AAAgMvNv/3d/Ff92bd761zPimLaNh5XYg+zwm1Jo6jIESxbbh74EwkFCXMSXhbaRkhgc9VQx5IowsAAmkkVvV//////td/pds+Z7GcynEDh5WERogMKg9//NExBgQsxLAAAAKuSNESTCI5yAxBiqEhEOiQ0POLGhgiEB4cBw6LBZmYKcodYSHoBSjBAGKCCUgr8y//6//Xl+s9//////H///39vCRD9c9/H/FxNFNfK+4rQsU0sSQ//NExCgSeuKsAAhQuczXKrAtcrKrMkkiKpowFw50aBY7hTVhpFTeLYqNCKHIjkRtW7oWBUDlAMzuRjBelL2MiixipMJzEsspfTLJW8KNmM6yo7S1fL9WeW/lapditQxS//NExDESGaaQAHjElKeYCf4dLCWCoCDsNQ6R5LiUryQNP+3DVWTs1ViDABMKwiM06FNdxYFgdIQBRzYgc9v3SVo6/byWcLGAJLygWHCaM6ADMoEMExkPmmueLLe1tZ73//NExDsSoJ50AO4MTGhE+yaNk9lWtK//////UZWHaNsKUhCSJoDTQYWaFLX1zGEhABAHC0uFT3JJG/wfOabpAQqP+iDJMquiAx7/zMSv+f/rHVtWtLMsotH+XRe9JWav//NExEMSCQZ4AOvScKvf///LqozljI0RDnTbRQlLPhCDDDRyMoAxQeasAuE6q71E379BWedXykg3zlg8q1m/Q8oxzdEAoJCAQAmBs2ogDBi+uAcDZPOdRnnnPayoT+eo//NExE0WoXKMAOMSlH/R+5g//yhj//4gd/66t42p1IoD5Q8FKATL8mOjpNIuteyMwUp7MXDbURTHpO9Skk261XWSI9S7USQwMvFIumgWJSlAZwqh0unkRZkw8iYEiU06//NExEUZofqUANtamGp3QadupErZNBNRdKVNM6f9L/Wo1UymM1f/6Zx1/9970pq53GsvE/TBT1JehkVshgGVY5DoBjc5uJy/p//29WmsoerpJGgl4QpofUdJRZqkfJF0//NExDEUCfagANHamJmZSCKaamvOotTRH5zyE0egymb/VUp1HhrEK//2f/VVpse2WfHl3tDe2zMiK+GO5dv0AFe8TtqaLvK///7//tTG4UI448C70WU447EyvkIc4DhV//NExDMViZ6cANHelDjqucMVN79sY17eJbeI7DFzPw6li6qg6pQdhIwLq//Of0fGqrv/ZnjWoCKNrctjCSVnNfDZQJzGXIRM8hP6meb9v8/7+Yu/qzwy+p2FuJ0lNQ3i//NExC8VeZ6cANqelBxN7ZxqG+je0KHnGtZpXecP+3xNLiJGgKDP9MQjAMbMJZ/5pf/VJ9auWVFz7wzaAmrQVTjssyRqE53YrAoe7GBV33Jere33/itkID+bsRIgCRNN//NExCwUaZaYANHWlLRYNpDvNllhqedc01/rS+Woo/vQROpqmDiICG/r0hFwiK//t/9Sj1aneAwmPMKBTLh1Flryc5jQ6Y8JgUcrKeV0bDnjFs/Vq1/r5f+yeYyiIDAE//NExC0Q6SaMANvKcAZWUrB4VxIAgZSlEgdlvibLHiQd9n9d5UcEHAcyBEwcRWSsHtAIAq2utJ7S0pjDWdLiwX/8H3kOXKBiPHl4PrB8/XOS4fB8HygIOU4EC8uCBQEH//NExDwSmFZwAVwQAFQITisgXB/UD58Tvw/9arZgPEBgkpML1rxJy28WIsmzjJsXFneeXWhaU/FvnO0yP4+lFnxL0yz3V+8+6YRapRnE8ddPefhhw09r0bqd/VS00NCR//NExEQhsyqUAZhYAGobmrwR2vH8iICUrJYJJOl/tZd27smHC46OsfaXMj+NihEQF6jWlhqoUxETxzv6/8yzjrafQNjSWUz1NZCCt79k7kLfK7siO8u0gc0pOEwyWWqb//NExBARwbKcAdkQAM1jXjd/HuGHN/3H9Ert++tAZ5hbEXKjlVWcGVzfX//+lzFBA6qokoGFLRCGhKE5kGntaHfZJerWG6wgOzDAKLx1sRaE6YyejOkmQwbOF/UVSddf//NExBwS+aaYANqQlD9ph9FIUJIosAOI4yJ5qI6LSrJQXHHT8T9fVczH+rvMw+zGB3i8w0fgG/////9CEcdWYsjSfYM/qwzrDBg0bVkg9VQoR4IVE43fOEPomnZ24k2g//NExCMSkSacANNKcHQaUOlGklKh5S3YziqPiIyS/1jC4qIzKHQ01Z1ZUUcVNI////THRZW7KXoSXEE0e0ymEiDIV0mCihnZ8Xph2liQUDyRmwSizns90pbv3NqP4Yep//NExCsRYZ6IANrElMu/Zt3d3dRdSoZ83e3//9FCiUT//qgr///+hYk7qwwIAUwhJ44xF0wZARBC7YwBhjgLJWAw63sDYtfwYE3+h9iLTXn0BUjBKDEwgY5nwTszDIE4//NExDgRoOp8AOrGcHywNhf//ffp/////0dulY09rWwEABiGhZz+TRhCBqciQQOAYMZpGILiXmB2p2UOdC1TVqJpt8wLWbHBs7rUPfKtT1P3oHruKLhIt//8oTZ2+/0///NExEQSWRJ0AOtWcP+r/rFiqnNhUEs6EPfMrmwDAlma/AqSzH4Ycl+rQ7tM0uIMODuWdUwdXj21c8CIg4YB1JxJZmjFpxq+KjgEft/9Puf//9P/Xu/3ron9JmYm50sw//NExE0RMP5wAOPGcMP/FBkUDVggQNxb1U51Xm8is1uDPSSLPd/YQfmIXBgZvwABjgFMOMHF8vv9NAgAMBolFnCB84D5SGLS5EH2FIYyjkE+clAycWfUats84QPixwWG//NExFsZETKUAMvGcIq9ai5pYMFCZmqU8pZgqATMonneOeWQazIYMe2vMXgxfkgm062DsWd//yzi7Jxavb5X7VVUd3QcZBoO6LS1qf/09HxdXeH0JtDN+n///rqx3GgU//NExEkRIaKoANLKlDSMS3jToUQBAGTUCge9cB0jxVTE+bkTVW/TLKy+mSBrRUi/f13WpipFgx21X///KyIdDIxqastlmd2VnUSa5yqaqzCjZlVpphdEqVNwK0DdjGTR//NExFcQ0fKoANNKmalbOxKs5N5NqIVNY+DY92xzYaUh5H2nbjzrX/9biIFK3T/+nqyVLMgkLOdPCsOkga4aqkBq3WRGBAoN7AKgNB4wEDhEjjhDyyU8sGBBCeTXYw4E//NExGYRcZ6UANLKlJWioaWa0tktsieGioCHDwkN3cShoFSw5//+gldls9////7vnqImAwEEBjgjGlOAa3bIk1hoHhYbGgx2sErpEAwMTUhXmhtNN+bnKGXV/ypd7odo//NExHMRMIZgAOaSSCNiAJiN1Jd16jCa3P9l1Lko/+q//0UumU7YoZm0Nw6RHXLI6aEQcZOSgwYNUGk6igTiCdStAXDho0OJyNJ8uAL5AyqDTW0Txmo3BYg5BABnvrd6//NExIEQ6IpQAVwYAMqkAKBmRT9TOggxeLJOHzcqf0EOy1m6KJXTX/+vvSNzRZsXC0T5n/+//1n63UjUyKH//2oNsm9NPqWpRfOk0iiZJJuXlad4GVGBKHJUlAJL5eJj//NExJAgUypwAZuYAMAOinqZwYkC48Pu0wGHq7pUq8kjkiX/RnfwAgBQigMB+PjQfDnKF2dx1yxx52h5m99DFNOaj//TX6dv7LrspE8dNPHC7nf/7vQ2ULueZYtAHEYs//NExGEZEdaIAdo4AFFEpdWclMGFQFNNlh4ZgZpJgvWJlEgWdI6joDDLr1OvS1WFE3IUbx7j1F7vhuZb6lVHWA2JMyI8zw5v//01ptFQued///0H6Cy+YkxrEpILUpVR//NExE8TKJaIAN6eTFRJUz7DQjlEFmBVY5PErMyX1ne41IKx+sJEhaobnRIou8Pr6ribbP7YiOFWWf/2PO1MiAFRn///Sq/9CZbornBpHZCoCMORwRApQlHMwkcT8ScH//NExFUQMJqMAN5eTBncsNhf6i1ooX7+s4XdmdMIaZFtYkKCY1Fv7MSu2f/Wg8M1zAkv///oexlvQpx8+03VdV9HbXIaHuAN5YOnaHDhxu4D7wrKAUbYp/0qeq/7mBMR//NExGcRSIaEAObeSMpe2ZWuLbe8J9DowFX269Q9ohIrFk//2RVLGDUKJ///+sjvrarJJjpZadEmjAATNzkDxB4aEjBg0ICTgiPVBMViTSChxPqLxGRqDp0wyanBVCUk//NExHQScJJ8AN6eTP7E7MyzEhKabfhqDQMCjP/9FbkpOs///7/9q5G9+hVZaEslAgEEpjfonJh2Xmc0tmaOEzd/+vsasND0p2e6QQ9yUhGhcoVItYsz+ECJQ+ZQhifl//NExH0SEJJoAN5YTAXecLf/6vdqn9P//ZQhnn/2tamgjEhhsxNTCNNEO0vCGjERIBL+avSuzG7M3NxeHMh+HOMnBuD0BqC4KjMf/wHlAQX7iGUP/9PKarWh9Bo0PFBO//NExIcRwIZcAOaeSBar//2hj9/E7/Lqzu3q7OTAeTog1GZx9BkAIo5M/ZncPTFkKFmF4yGn1sJKAUEQTFM4P9MFhIZf/rMZMztqVEa5EZSiwACAoTqc6Sfzn5zEajHG//NExJMSmKqEAM4eTAEIxFkrYTFQyNC6g3//6hM6p3YhgqDgEM3uOqsqESp7PQm1ZlSyTo9Gm93THhBXyIIEPjsGr6wgHhRN4mv9n84xlNc0meahQkFyfZE81/ZPqe6X//NExJsYKcKYANMKlFHN4swxalYrT///+geqq59sUYEOHYBpmX7dIquBl2AEjRcQokySKOuRHZaZAnshoTRrd3Pdd2L/U2tVO6EZAsSDNbcktJYKhoS1tqfJuZ////1I//NExI0RyZqoAMoOlLP0NI8ZBHEqiv1/b8RLSgHlA34nydmIpO61opILpGTHvSA/CqTTmT9Yx6/755lFiCg+FzaDoncgQIWGDosO5lagtY1g/+N////NVcalFnAYprHQ//NExJgRQRqoANUUcIMPC7iQU0UAhgZ2AJfqvacbtjmqGdwwy1anee5UQCS3PGpvt+/duztNY1xs7BZtolsKjWQqIXVdSv99///9cyqB1a4dVnBQdNJwI0iZhoTrEUSH//NExKYSiR6YAN0QcEAmDgaEyrpcM6GuT2sloWYsGMrWVlxYxylKW+ahvqy2pK2GFHYV36FPO/dERqoRA5gIIyEGgBgCCaRNmmAblsoCkAEHjZyz7NNqldE8YhICJJRg//NExK4R2SqQAN4OcNvJHyAlApkMB0CjFhU8I4+tVLdum+Uffsr13Hv1bGdH/2+2mjcrA5gGwQSNaAJAAZIbYSvkYMmDB5KyBcJH6EjxgsdFYseOxUqpIEvFD9jw8I9x//NExLkQEQp0AOPEcCVQhzepB85UW1Ce1WpTTWyncvmFJV6qDhnFbLXTYXH3fa+/9iUWZ/XJXP4d3Xt1432ksO6CLABKuhdDvD/SuxBAGHA+GDg4BkA89ZQTuGg+D8oc//NExMsSII5MANsGTChxLtIgAYPn4AIJR6jhRPQJzm+v/E7PYD951SFyBgApTJ3uca+ZQIGWhYtGmAqU1LDDxEFE4FWQerpE4wuUQDI4DC6HAKPQDBVJgxIOeBtQLqBl//NExNURYE5AAMsEJAXOF/ADQCLGKMX5Pn1H03QSFcNCo5ipCsvpoIJGJNk+pMixNh9HuyfLiDOmsnBzD5uxiQMTz9TadehoEGKhkyDNPf/23/zFX2f9n6SutcLuLokE//NExOIVON5YAVgYAFqVNnKACtks7M0hmSXiY+/Sehu2XiXVKwuMes4UWKwMsFUJkOYYgJ4IkmmSAzEq1Mvtpn+h1XrWqlWfspTr2X2t18wjdNfK8AEHlq6IHmY/cCwA//NExOAh4kqMAZuoAMdJ+PEM+DHPc+jdBOi3rOKR7+W6VgaolSxWJrsYXFcKnMO7qEoCv2OEDgMiLkuvbbv//+y3Kud/oLXPcyRkFm024mPVP1uCAI4EA0lcRJHU6NAy//NExKsSeXawAdhoAerpputV9ubuTb2UJeTpCsJNCoL98oL/ft/jGf/TXvJTXy9m67l6OQDCa9d1HTQSncqAckfW1MEoqel/UlAY0PWqUGzKfjd6+ljvm1HYF11OaFa7//NExLQQ0Lq0AH4wTQfMr128Cvj4y1at4GpLyUhWgStcPTG61mXcmt1aXDnLJhUma17l0VOgeuZ7kgq+tXiAqhAneuiNJW6li7AZqmieiDFZjhJ1yZW0xIi61EcW2RUQ//NExMMRwRqsAMZecGRSPhEVNYp6HMeLEFRcaKqLDTudXtuuvt2ZUjRAof+zydXfdUIXhZ1VAuVarENgCVBzCcTYZZ7KTqSZtaX+t/bf/O94um0wrdAIeGOtqZKDXOB4//NExM8UoSakAM5ecCZJxqrirnJDd//QMAh/Z5D///y6szE1JT4fDkVpDI54chDzXX+BBgKI3jY1LqS5wvJKmTJVo6hX/7sGFOwEK0M5ZUZHCiQVBUlEv/GIEQdPf9JY//NExM8SiYqsAMRKlJD87ywlL+puMACoI4gl6QYJMQFAS0EgF1rYXeii/jXmVN9qNXaWluZZaXjeok2syKM3SYlyhZykAkFFBgw8NIlY0K0ZtxR5wcQayWHxgqdU++LF//NExNcRKRqsAMTMcES3pFzNr5UXxS/c1vxoNNRVHgYIbI3hJCIV8RgWVKjL7iRll5M7D58bykbv8n3UDwSlSdPPnIOXI9qrGTIr/ibe7NUzZ5sn//3TDkPgbCQQo6yv//NExOURARKUAMwEcBJ//++E3S5rKDwOwdY/jrAeB4IwI/X89M5uJYrEnlVzqCAIZuQg+Egd4/k8EgbCMOvhn3x/f+5FtO15fUQ5vjefLCxBVc8kk205FfUc6rXUq2su//NExPQXiQpUAVoYAKLdDk/dHtq6b5yaMNppED1V7r+PXlZ7rEaarSEmcyjDwCFQxhtabJeWqmZztBFQ41ZtLqpzSx0oK8oxeTvGqTI0fnPPkCViCd6p24/PvnsSMncu//NExOgjAyp0AY9YANsdP4haQQRE60KnTBpt8G22ZUvB8sTXhusRnCq/ld//b1E1aTX+X8/+XtpNKsvdGECIJtFjMIxMsrxTQ1lvy8rV149t4MU27KtVWzUdjGMPKKzW//NExK8iCyKYAY9IAXKKC7MwsUYImBRiPmRdne9U9FqiRViTS1HqmGEytdXCpXaMSQk4KXkcFhcHVpI/YkLneFA0zDquvU/2fJi6oeT0KTODsC1Qj4MEQg6ABHDhQMhm//NExHkRCZaoAc8oABhtU/1+ddYMsesiu+s1S9TqVc7NqQH1JGGRYRIjpIb1QsFa0tSQTYeD0RhmXMiC1dqS0HZZiWUUhcL4UdTmTP6kWMcVDymKjtmt/9fR0zHITH/r//NExIcRUYqoANLElPb////tSsKsQWDMOgS8du0MgqomaXYaGAVwSxzgyCncFkcc4XDfRPTyuQg8BEw2JCkjo/djXYeOjsFpZd10X/X35w8OLHVs6uW/////T1VgrpOC//NExJQRqZqkAMNOlAUKGpsAZhDigLlhwBNAgRrs03Adxct2etcW37FBrmcsVt4ai3Xx4k5ETB9FCp90HSR9Sa3jqRE3/0JFgaU2j////9v0qmsN445gQAHA3ECqINAd//NExKASKZKYANqOlHQhkaeACiEjsJtlAJZVJ22GLWGIaMkgFHV+YfdgtOyBEelQk9VK2YY5CP///9WWwwmZNX////9/66qtYmwKGzM39M6AFRRhJhcjmQQyihHVzhcC//NExKoSCQ58AOPOcI0ATSlgfLOKSuHnBA3Co/nf++GG1n1FTxXOR0oVmyqRTLVC////8xDA4d//////XetVN4x0BMQTjpXgyMLMKBDBiEy4hDgJ02CyFt4xF4rDtrmv//NExLQR8ZJ4AOKKlMO58rjhQzCjsfO564MNqgm+yikFFuInSv0fiKPS8Wb////RfTZ+jXUoBnvIGmYngImFLmrFoHg4sBlsOqHPc38VVzDsilQ+DWA5MzwJU8DoDUmD//NExL8SgZ50AOLElMpjrXVVco0g2DaPofZeYSx0qKoDUIhLPHtbhsb3+y3OmnLHmsh01Fvm6paIUNZa27q3b+eYp1c9VaN86j29cVTHTETxT5iXyzv/9Q2QPWeFIP6Y//NExMgSWOZsAVsYAHRRT2/Y8y71VWJWHS9GMc0XLxnjBBP73H2guaM45wqg9fJQ0ZMOALusZX1MXy+4xC+TR1GJ+X06GPIjEuNJJlD+XDSXDSo3H0zM0lj0/7OXy+5f//NExNEhkpJMAZpYAS+6YlZMFwegb44RMhMAbf/5vQ6Bpa47B/BYgTMphOB4DjHiOcvEh//+hst2/kmMGPUbyUJQaxgxgDpfHmPcyahAEgCQdiLiQOs+TB3n3dcc8/////NExJ0iMyqIAY9oAP/7L9P572fJ///Q7c7lYxbt+rMZjGVrtCiSPylVnK5DO1gxzoaKlcyIiUS6MrWAlbVuPDpB7timFIKu3ZGQg8Cn8HTle78pi3M5Xf7nSc7qx+lG//NExGcQ0lLAAcsQADuZz9RdIFC2JmNUaMiFAyNkMAoTQ3nIXCqEiZiPrgIVIuq5FeX+MiH0W5QO2cTCnIcoW00dHWr/tdRefj/bhzmMT/9S/npe/o72I6+nM8jpQwIi//NExHYRoRqoAMYOcCyGNRs0aegHc9IY9vtoAKl2/YtB8FH6VfyxlZXb+EqiIE1TlTr+1sQaaDBdEZoRawkREGYhpvlFeUUGlKgosaI/rL8K0+WuTp9ZLGimJGfPmpOU//NExIIRkSaoAMYMcH0l69tdTautemmtzgp/aBkJehXD9sMJyIpMlUQvzfniSM6j/flhA/QZVaOmmYSh162+M0mdv09OUy/zDFzjxw3kQFUJxwusOxnSn2m0T2kQ2xpD//NExI4TUZKoAMSalOlIbAJlbReMT6EKzRdgHQcpaKEG0AnHQU4CSLTBrCOVU2w+jbkfRt+DF18S2NoY5L+8jnlsUKQqwsTCEykTJgiiRCoVPizQUBrb8c8t2f1/rlO0//NExJMSmSKkAMvYcLRJMEenIazBK5kLOWdPi7uOpK4uEpr81vfNZb/m12Xm6oUxcxUAhxKIpXUSkJK2ehLKIqlYovcxDlbxa8Y+l28ymLf2bMyekVUISCAAaZaUMAuq//NExJsRcR6YAHvScE89GJ6Nu/Z1l2YvIoqTZZ4zLiDKp2YWo8hsBGFqsozdJbnSo0WltffRSPnDQmk5q166lWW7nEVGZ4+bVL71MySmQus2PKTNTrFwnrXrbqSpufQZ//NExKgSqRZgAVkQAJ6Cbplwlgtw/jkHqSximWGTv6m1qX6mQT1a3duSxNRND7m7HTA+cPlBwgWffCgTljgLWylWPhpgFEDCQ0osF2RHWu5+rN7fRPyf6SeuhP//QjSU//NExLAhcypgAZhoAGtqf90IQ5zuhMj5z1Pzh8PnQhHIQlQ+6PVyEV53T0Ic53QQDgg0iv//+R4S/9f/fk/l///+t/5l29NEpshcJ3PfKi6B5dFxJ3YO4SyEYJGBGioF//NExH0UGxqsAcMoAXB40FVcQgwMD4NMiUdycogScI83oI0Vv/////+3/7tv/7/9/v9ef/kdkc0lSG48xUIhJraBT5901tHuypQulgPDxhGjWw1JtxPremP3US3MLa3P//NExH8Qmxq8AABGvKg8pIzS8lX/////////1//otmNV1RZZhFkFiyoYWOeMMVrZhEVDzloRxYlxV0Dw0ARVFxomKslDB4aHj3ERUJHIKsZyiA9qFGB5xECnCYgHHFHX//NExI8QoxrAAAgMvSVtjM2f9+nrfX9f+OZ//sJT3+Of5leFR/5btRrI5PZRpsxUtvq+tqHuSqW3BVsR21BLFnow/csyTVK8ABdEEJkA3LT4VColNM7QpVTL+ZttNk+j//NExJ8Rgw64AUAoAVGWbtQOkeBcRbS8Zm0yx4t8AbLyDU/0k0b2cUyEI1j/2Eo3SM+wm2lFNJVCUPrp8b0RT/9/TP+//n1x///6ax7Yx8fEn/996rWmvXOLucClP6Uf//NExKwg0ypwAY9IAMDVnB4/TkCz11NFVj+O8iaj792SBJM2arS7azqs/oSWU6XTd90xr61e96W9NyQcxM5v28catT7M1ns9mvmHrWNazf/7pSn8+8y33rO8bzL/05Aj//NExHshIyqkAYN4AMRSLiHBUEXFu/X/////7bI8ytejtY6rEZyGiokKnRVSJAEweiToJmMYxkEh4eiIkJjio5hJ6GlNmRzLVI0UmdJripSmRyw8tSiuot5poQq4UJWt//NExEkSoqa4AcAoAQ1FLh87///////v/f5dJVLej7GoZ9SggJDAQoxlKhaGQUqOZSsaGHmeol2lst2MWYKT344on/0G5EW/6ljpSXKnb8k3+UwEwsgSsE1VJe0mFO4a//NExFEQ+iqQAUcQAdQKSwtSbx5kgatTqZJIVgvZMGCWupkkGuNgmY/jiCqbp1O9jqxwEUTMSkdRGHd0EjiVmZlJiGEZAMMTESskAczI07splKr2VCcCXiiMGPQcxKF8//NExGAiCyJoAY9oAaF6v0Xr1Pr5gaDgJEeY9zI0L5fcwt1P1fb//jCGhgYm5fMDQeBmfcjVXgpnB4ritzYS3fLP1DfPdr//WiRV09GUIANHVWmai4fGaXizGsZRwhnA//NExCodKva0AYZAAOXIxQAwenRyogjkHUIkILnueBERRQVMOGCwLyhByzVgfu9F2lRVueHjiHjA7NUkce1Fu6zA1rJie669E4RPHig5YmCvXm/FnoikiucrPiYgxQ+///NExAgRyZKgAdkYAKyV6jY2HqYpFqtu3//r//D/+z/08zTeADMqgSiTtIoSmYntVHfmX5/9/7KuqKFZVEwGQmQEsLtYtujyH//79VXKXfHiGoCw+CyF7mBiEbCX73LJ//NExBMSqcaUANGElN+i93sdkftn7gd5hoKA7cKC0KZVHfOtIJEiRQRTSM+3+j/fZzGlOVDJMBGNBg3OLNXMR+7//+lS7f+UEsQslbj0nQDixNreFtlTbt/7UZxTo1/P//NExBsSUfqoAMiEmf7disyNb//+n+WuMjO7LdiEuhKowtc/D82nHgBuj+cd5HrasB39SeAO8zC2/MnqV8MGfCs/b///6/////////3/J0a3RVOdjqdaVOS4QFRdFAQU//NExCQRAwrAABBKuT1uICrOQm1pyIUYUrTyEdBdGUxHD8U2cUEzWOdxMPga+v///////+3/7/P/97f6+v37Y2eXz9cBJXQT5l97oxK+YRaSlr2U9LJNAHM5BVZLYeWM//NExDMQex7EAAgMvEycVetOJIQmeRKRXHO6DW/////3////v5//ftmd+7/3jXnY99djUioZFy5NvCr05MMc9FpImQiZVsIOONjTTpDMFlzo2FURBmVeuiax9IEyRMDA//NExEQSAxq8AAgMvcpkDgRR23qq0//5f/9////////votKkUxbGlR/QrStVDFdHKiioiYyiQtEjtQPCysIoaXQSAxymM7IHnZGfllK+pqlFXmM4iKmEihaBE9NXisZR//NExE8Rux64ABBKvP/Ws/IUbkX9f+LMMyEamH0/LNlbbmVuVuW6tuUMikHKZWUxpW1LmoZWMGH4dgV2eWZCRGWBoXZOyOMJqKkTstBqLEkyANEWAW1rP/XocLVWkw+n//NExFsSMgZ8AGBEmLNXLHuu/rtYDCz0HXlWCZ40Mqba1RRACow0i9aU5+s4AXVJlb1gI6HYuEpi1yiSg72486hO/QvcqggZFC+LiA8EaxJTdpLZqgxpxediglilD78y//NExGUSoHJIAVoAADRMokmJhso6S5uShJKGSCv/1NHQToRsgBO/zMe5utNMMpswNsJoJJ/fJc3ZNIeglaCQ2BzP/lw0Zk8cCRYbFZmSpJm//9MuIWTpvQPFxA1SJFEz//NExG0gkypoAZpoADGz///T6ar00EGygbGxiX0kVs7TZGqIurg+KNhw1aQNA04kFDTRZ2fKGL5c/mG+f+eo2/NV88S2ov6uXOtFJ8E0nInh7J5uwlASFII5efKzjrue//NExD0SoYqcAdpYAKKnZ9R19cSbm5/1cAaKrXeYhY0B2VP9slQIWT1X6UEucb19v//+v+f8YLWp4wOjAiYEBpT0lPzMzxfG9PduoxsUiKcexam2yQuWBZiCo6n/qvX///NExEUR2aKcANHQlKIxVfy5WIWAefsSiXIIhJpZ774AX5q/53///9upnVQ6DuLCQWECFKHR6iYs7IlGKx7NPdxOIONcLmw2n2HSopcZf/+Kf9De86IKhQLJ2b6dYqAx//NExFAQuZ6cANHKlIwA0m9ZBDJ9D/u3X9+t/9f98bTRkqIkBrFiotc+jUPI/KSo+Ipyj+2Q+7fLDrzj3GhDDAu0ednBQcEpf/+v+pKmFuVMFoJ8nukwetCyQYSWzxzi//NExGATwaKYANtWlHCdf/5c/9b/2///m9NTLQKBBRLGLUoIpjOpfUhuxpqLQxlAYqtjYZARVQsIgGx5ksVt9lzdi7uvLKoVFDnfgyAjNacQcrGWiBhY+XLMsLlg0LWX//NExGQSoaacAVkQABf9MF/Y1R2Q5AVDibW9hBNY5IWv+yayqXve0XcOQdIDkbcSzSg4dXgLNa0HTExH1p3CYoC4RnIbEoaN7mmmUitO3e8SCOBwNjoZosZU991H3o+q//NExGwf0qpgAZtAAP7aaR9Le8kR2TdFYYGaWqPmA0TqkIR45V59kcU/y05dboIpN7qoIqp/d00kFJn7/nGSTTPpD+Pg9CTMv6EwMiKMse5gbjGGBGDCgE6QZ3r6SIn5//NExD8hiyKgAYloAXjUoH01iaDwHKCsB4J5LjCj9/9NJApnDQxHGbuaIOOITAfigJ+FxDmDiHuMGcIm//86bpqZXrNFm+RiWHYXEDQxHmbGiBfJVf/IH//////////r//NExAsTuk7EAcFAAK+O6/jmMt0pb5/47JPcRzooczsiMHAe0rsPPzBehajXxxo0aGxQvuK4ukiYln0ikppMJyAGAYAOQ9OLdEMm8jag+242L///////8wf7nMQCEbDq//NExA8Q2nbIAAhGuL/r80FUNWBCgYYGrClARtjd6SigqmDKQ/cH0N2fImRksPibLWHW3m2YUJyrDtiSAWhOAaF1syAAKmZnlN//1///58ip1uGtiBwxhulbkZKhj1PX//NExB4Rmh68AChGmaBEwUIGq4FJrmTyUEaqf3gY+LHdeDrLDgSiKrG82WHpe19u/n/xb+zKzy2z05jbLDzvgggsONS2F2Mig6xHRe56v+f/8ja6luRimpF/XhFGJnJp//NExCoQyZKsAMBGlLagMOphoBRsRLUhs6zsDUWewz+tRIq3u/XV3yslqelDNqdyCxUD/oVPzMHclyd/oT8xCXs/9zypwEG1VNv/L/P//2KtGZtihw2dDgZ70mOSMxJR//NExDkQyY6cAMmGlCF4oDBEHzaRf/WqqXqcYIOId3Mps1/yK0y/4UU/ixHsXO57l0zKJBCwuby6Mba4jnukHDYMBg5y+F0wQEr1LrbeRYgmaSKkT7G5etaqkoA49rkG//NExEgP4J6gAM4STJdyflr+iNhbZp0dQgKFyONkKAWCduyFe+VV6rGs6o1nzY4DsuYZDl59pLP3sr+vv/ey0lXuQArk0fxUSorvOTxO6jxkhbm7nQlUf9R4cioJy8SF//NExFsRIRqsAMYWcA+7La99NnteorXhYriclNM6EAUjqYko83YxLed53ZWsxrWstoLPTLuilaUlCAQq5u4i+kNXwmwi0s3kCBZZSwBGT4gqXAkBH2tpR+Ct5zK1L3fA//NExGkRESasAMZacFmHZAoTCSwVh24TLK5J19HPp0cq8yU2AQblvRUu820dq33U1bmNZN0fJS5RkbBWsuGZ4NJUUaMaVesPQOQmixOWKd6vb2UEOLzVQuM359xI0MaN//NExHcRyRKoAMYWcCjxPrObw9f3z/qL/4kTMVhnxSk/Lu/kqer/qcOahgjzRZCIwZXJlYJ6CxWLShxzBF851Lml1plu8NyK935VrfJnuPc5FS/MM1r9EylKdEdGmQRQ//NExIIScSakAMZecKJgEVlWlH/+3fUegEPj/u+MUoze8uGUJexIQI0XqpkbUKEmP1uUZousR6RqsT6Nh69m29itpElsVRpQCARSZGckjnbW9VTEplGXf/LA1I////////NExIsSaYKgAMYKlP+uGiAm0YdGphepgL2GMgMYJERIFQ4lunCxIRKQWZOg4GsWYlfbnWyzsWu3GvXUSocEPDlUKUMuUlyVfYKZ17u70CK4i+jNre6V/10wwEc5GFAx//NExJQQsQ6UAMPMcDzqMK0bMHB5OswuMZiiMOw/Mdx3MJAlMYASMMgnCAFDAWLJvAJBeUAKHBULhPOkInCCBxWcmDqp9T9C3Gns/XJy21vXJnImI7Re8t7elyets9le//NExKQSaPpYAVwYAPh7cnp620zJms7lvy8WEaXGlGibg8Kw6qbAqDbh4GaUoiQeXtGPjSUqpKJKyhQAGzFFEOIuBJTACYo5s+LkInluwUMj+UPy7OHWRR9c2pEbV5z5//NExK0h+ZpMAZ1gACxsBwBsmHTge32zzxMH9dckklYjIsZV+Vl5oP6A+KkGmdMoe//ojjsLIZFnWqNlev//fumKZUsbU26oj/+v2U+pZFs9lPViOPvjm/56+Or/3074//NExHgfkt6EAZpYAO5Xgq3I5Kp8IBQ+Mx0Fl9V2ywzMSQXanwYgxC4FdmGHVt01iagqMOvZndHqqLJ8hR2poM8MQGA8LwbZYCWCXLmXBGBGzsldui3ubi2Pi2Khkuzq//NExEwe2W6AAdp4ALY2pks3/VXsOm9SPKv2fLJLPLv3t5QUOBU+83WaOuoMregYx6hmIIyepOq4E2UdFakbgUf/TyaEODn+CEF1DHRCwLO3SZa4uCma3OzOzw3BLwqK//NExCMbQbKIAMvWlHfq9UTnEO8J0g4wQrlAaiweS6bCfMTKHkwJwjEAJgJKIpceHonl7FlnWVj+9NdM+opdvpqlr/M07qu4j//fNHUC/U6Vo/93//qqw0z8wPSsW5CT//NExAkSORqUAMsecblmbYBYE+kGTYCwf2eHk3nTj5eCO+EE+71w3sx6hWIej1E9gMEHNIFtZrlTRl3j+Jae2mGHOoX1lOsU7/8ZTUStStiNDxA6ZQ+N9mTwYIogN66m//NExBMR0SKUAM4ecIRGi3Yg7VrlSW8witr8IRlqYVWamcwoYkhNJ36QZfdammfxYMFvdVYX3tauWqkGE694DFIqlHtHCR6zKcVAnDLNupWEVxoCoggAkqacyiZaUvSR//NExB4SORqMANPecYFFvTG49gZsWOwlvUhdR43U6EwJYEajGrfCa31GGJGjZziHik8WR8uhk/erEknQW47MAAwxt5aiC984ORjhQFTnM9LfH3t9jWqfGEK42ouXCQYi//NExCgR0RqQAMvScLronNIHXUlHQwqQMrlpVhZR0CRR4ZabQ9Indpf//3pV+ZWwBtYAvAGEMLkZKcrBGB9Do+Id/i9vH+Z49pd2vSm95pZdPlOSJesyyxWOzzGIGI0B//NExDMSETKQAMvecfOWGa2Lxb59LSfM8ASRTQ/WvRx//xWrDsbOiIhMBgxaUcoaFQhzSuTAIsqL4iaxAn8Fo9YG/mb5PI3DabQsiIgFTYCkDWim14q09mCx1tEQrZqF//NExD0SORqIANPScZJNg23LffxGbVmrrrj6PKL+FYU0jaYAdaaaOjzfhIDsoLyGz4p8s74dqss+upmt/qI1eFkVaeFaNAUg0FnLonXvh6z169V/7+NV10ujeQGCLPf///NExEcSWYqAANCSlP/9dYKiIyKNyzacww4twiQSkqkxYE/ETUE2hHqNQuHev/v9///rtuUSBSJgqWEAJNABOai7NmXrd/v/Z9b5XxeDbEOpro///0p0WACMPNPNHmUV//NExFARaZKAANCMlBBRpO0pYDygCe99FLcDBm2+2v/9v//+eKHzh8KnyIwVQQR5prJDvKzS7s0u3K1Bws7nSQpyGMtUxn/+wqd7FUVRxz0bTmgQSDVhjVIxC6El7RIX//NExF0SaZp8ANiQlGuqdI1zxQvPqPzaf/+//WyusVEA8ASGeo9RUcKzmRitLoarMczkcWs9HQl3uXbf/HnBVX6laXAJIiBsd2mGnzIkxiDS8gkehqXjwa/Csuvb//////NExGYR4ZZ4ANlKlO8pLEmQUIUVFwHUokPPHmrm2vaYaowPnEzhJ7tVGGgnZ/+5aP9illSoiA4DOpTGcBUbOIXUOMXEJMNE77s5jXBUBTC6K5aVeyf////b/72nOFIY//NExHEROZJ4ANFKlJjNSFEMVRIUjONHr7PzdnvR24iMDp2/2CUsj2WenFmua0fRXoqIF9zPn05yDDIUwseM7VjVzgwMNMZFg4CQlKLl0WRDmIgGgmMzQRkNYqMYKPM9//NExH8UIYpsANlMlDltmdy20+ud9YtWml+vKsmyUBUHxQfFmkjjpNhpr/a69VhijgK74iPRNKuETqqj0rgqdPX4UOiIGj3+RlDnDFDABaiI1tFFhsIbHHscbdg0kLch//NExIEacYJYANsQlNk4+Jwzemvu+mV67/cxHXNNzChYYS70ZBRn7jFu9m2lYVGyAlAUc6x/SF/7MwQdrPzjvGDs9/s7tNvXJftyjn/b/vyrdmKNRBVIBhRGGoCjkvmc//NExGoXMX4IAMmElTYXbMG5zO0FVr+t86ZBQtUlctNUL5VvDU+A1zspWYY2RnW7dAilSRp1iDallJlOSFN6kMbN/rqxrpIFCQoSMPIgSYMFLwpLSiQgCHUhQouMKBUS//NExGARwSoIAMmGcI0RBRYaBnKnSQqpY0YPGAUHQmFEpQLEQ8BC5RJFjXPUlGz63aUYaDpjBVS17O//qiOEgiCsP237sAhbMhSk/NO3J26uyuqKizuIcyCzhUVYCbj4//NExGwSMHn8ADGGSBXjxZwsOcZqbL5JVk+/uq/PrW8CViDJnKz9b0FGoS5qtNUT0CCP1lVsQGAQCgkk5pESq1eBhRlQ6s6Ig5DpUNCUNYmBp6lFXEbiRXEQNPlTp3Dv//NExHYRCMH8AGGETMRYliWoGpasNZ3EssDV54qdr/DqOY/T+O0+EmfiDHSgFLdCAIyAqBIAF9y+BQ42iMzwLIQVJaCtQZAzlD0HgpxoYthXhB0U4BcmpwDWEqNiwDAQ//NExIQRKGXsAHmGKEyWQzMKOMKTMCo0GBGTBgufQREUy/lJ4lOFSc03NCEEww+IA+EZcgHzjyYRBwzjQITCxMIjilRcgc//9p8b/+tXWULiMgfOHz4RAlUIEIuRwXxM//NExJISELR0AH4wTMpSfH+mlKwR7wJX2oIKwMJkpN0EUUmN4ETNBwxw8N0zLOFoChaBxZXOE4SL7YicmEnBwllrlrUceokUmicmidqOPzLkxbpxiyjbKLYtmPbHbSn5//NExJwQSJXcAEjGTFcxrbn/+ViTzXmvWO3dvPlu/irW6l0jZ2GXaGrG8KSOI84t41SXRS6IxQw4UkspNFES7pRXS2b2SSzFUUxRLKSSzFUUxRL/t//////N3blJopiq//NExK0g4xHgAHmMuSlJJZSat/////////////7qzExRLKSSzFUUxRa21UJxcCE4tQ7oIIO8FmESizCJBBO8QnEVzRK5u8CE4uIaCKHdEJEoswiUWQd4hO8FmiVzQRAh//NExHwRkBHMABBEATvEJxFDmghQ70WYRKLNBcEE7xCRK5olFk7xCd45oIoc0EMERxZhEogg7wQQd6LNErmguITvEJEodIRbAwSWRhcEwNhsVkkI3Oc53EECAIAAghDG//NExIgcAwXEABjGuQICBAQQjwZGR9s+In2nZ95na++7DGQggZHaCAQQBCCEwgQAAIAAhDECAICAAIIRrGRCENmJnnkyad8gDgMBgMLJ2xhMmFkz79dvmQ3d4hCG74z3//NExGsgywXQAEmMubduxhhMmTJ3rQgmTt2by/QgyPN6gYZClCp4KS6WR9Jax9UcunNYZruplVp0uaRFJJU58yR2rm0e7TZHlxaByzWch0InCoMfCyzzmSvS5NIkkjth//NExDofOw3gAGGMucjIKwpKEzbEyUlu39dveL5yxSRc2x1AzCndCoOerZDZ58vN/ZbI+ZDGVqSaSqxJZJM7d63Smi0ITRSIsaQdOallALEBQWiALgakI3LK6D8u60DG//NExBAV6f3wAGDGmRTGu1JgZrDWGpLDX/9qXS86UpNxc7G4bf//+UsZbD25SJnI1lImpGsMvKUmUEJCUXy0oqktkv+djKi/zspkvpeuv/kpiUUrkiaiZieFhHGkEo/h//NExAsRsJHMAHpGTKENlBwjfBSJIXaQVzCDAAMWibwQGA+ICYZOEwwFj5wLBEeoIgSsCF0KLkG0E9Jx9oWdGgfVy6NHs///ogYNDglmXhYw1J3cMYjGH6AUkJo6hKnh//NExBcWoNXgAMJGcFLs7TRWZKtuWQEDFBUOOJDOKpWGFQDSQVAUKgsHoSApGBREdliR6kOhKSCj7AkmLAVlYCbLEmUEXUnX4VdjNYB1IbkaDBiyMVgmGxWjEThwMDAw//NExA8V0HngAEiGSDAwAQhUOBgYGACCE4Pg/wQcoEAQ8oCYPvEAIB/4Pg+8HwfeozBAMQQBA4sHAQOYIO8Tvg+H/l3wfB8+IwfPiAED4gBAMFAQBComCwfB8U1Xq0YY//NExAoSkIH0AGGGSGoqUgg3EDDCRIW8BgwYNQAED++OrFwQOGzcDBQUYKM1twM5Jt9TCouKVt6HaPS/9dQu0IChAEBQ2FzZt6DLzATqIlRo+cDWrNmJDB0FEBGqWGrU//NExBIQSIX8AEjGSLalRIhIAW0kAmywuRAQsScSWn9aQkTTbsAW9n+EiT+LNTmQqIzJ2VXY3At5kJI01QUiQXMdJh3S6tWWLts//oZUVFMFDGL+c5DkOzsZFT5CHZ/b//NExCMSSmGUAECEuPYyqh23Z3b69uUxSv5TFb1MUxi/qpDoqKCF+JATDMyY9D4Mg06LKiMEycLhtGDpiQ+TqPn9NhBRACCYBihkImgsz+kcLGThdb384xK3ixkdYUFz//NExCwQUCH8AEpMAFcyUUZCE5exgqaPopL2pxVA7SvuWio4lWgoBCoIgiFhUiRSl8VQEBAQESoLB0RA0DQKhoqsJA0DQGfxKCwd1ypVx239bjqFo1PDQlq3h0OLqxED//NExD0QoGnkADJGKEO9an/QugMIQuAMDZPIUICeczpxAADOBESv/8Lcn+T/IQjTnPOd0IRjnACFwfP6wfficP0/D/4YWD58Rg/Kf4YggCEuDgYWD4fcsHw/tB8P1UYB//NExE0SiSnkAEjEcGwIgMjAYnUMDwsBA0BgaNCU0EhaSohUVNIzoVALi0RLBWCoaU+ukgjU4z2te/rcSJKHOIsWqhHYNOj1uzp0WHudYSJIUFUbpsIeEEyBNBYEFCCz//NExFUR8DX4AGJMBC4UbFhYRu/KixJ//+LCuKigtiwqysUFsWFWVhQWfFhVlYoLYsK4qKN/ULiusWbFiapMQU1FMy4xMDCqqqqqqqqqqqqqqqqqqqqqqqqqMTImj8RR//NExGAPSDWcAHmEBHjoO5MWXnNyr0QwsQBhAooSOOIFo8Uy//IyI0eViMyNHn/2ViMidHisMZo6ViMv//yMnSwjMjIy/+xTIyJ0sUyc0s//I0sViGHEBwgVhI44gWED//NExHUAAANIAAAAAMUyIyf/yNLFYYccQLCAwwkcQRoQw8DfFzS5+KCt7AAQHAwI4HxAA3xOUGyhccGJQ4D8u8EIgcD8ufBDDAPgRySg0/WfDH/re7OB8QJLiABjho0L//NExKwAAANIAAAAABw+cOB8hJkNCZcoOGlBo+omQKYI0oxbSwmAIkaRgGCrIosYmjf42KG/waCovNCmwZ4KwFGhTYKaCsDfhFQX+igrF0sVg7/fN///mzZflk2acTNG//NExP8a4xkYAGDGvc25YuX/k27vXP8473ipvFBU9UxBTUUzLjEwMFVVVVVVVVVVVVVVVVVVVVVVVVVVVVVVVVVVVVVVVVVVVVVVVVVVVVVVVVVVVVVVVVVVTEFNRTMu//NExOYT0D3sAHvGBDEwMFVVVVVVVVVVVVVVVVVVVVVVVVVVVVVVVVVVVVVVVVVVVVVVVVVVVVVVVVVVVVVVVVVVVVVVVVVVVVVVVVVVVVVVVVVVVVVVVVVVVVVVVVVV//NExOkVGEXYAHmMJVVVVVVVVVVVVVVVVVVVVVVVVVVVVVVVVVVVVVVVVVVVVVVVVVVVVVVVVVVVVVVVVVVVVVVVVVVVVVVVVVVVVVVVVVVVVVVVVVVVVVVVVVVVVVVV//NExKwAAANIAAAAAFVVVVVVVVVVVVVVVVVVVVVVVVVVVVVVVVVVVVVVVVVVVVVVVVVVVVVVVVVVVVVVVVVVVVVVVVVVVVVVVVVVVVVVVVVVVVVVVVVVVVVVVVVVVVVV\" type=\"audio/wav\" />\n",
              "                    Your browser does not support the audio element.\n",
              "                </audio>\n",
              "              "
            ],
            "text/plain": [
              "<IPython.lib.display.Audio object>"
            ]
          },
          "execution_count": 8,
          "metadata": {},
          "output_type": "execute_result"
        }
      ],
      "source": [
        "import pip\n",
        "\n",
        "def install(package):\n",
        "    pip.main(['install', package])\n",
        "\n",
        "# Example\n",
        "if __name__ == '__main__':\n",
        "    install('gTTS')\n",
        "\n",
        "from gtts import gTTS\n",
        "from IPython.display import Audio\n",
        "tts = gTTS('I am a voice made in the Google python text to speech library')\n",
        "tts.save('1.wav')\n",
        "sound_file = '1.wav'\n",
        "Audio(sound_file, autoplay=True)"
      ]
    },
    {
      "cell_type": "code",
      "execution_count": 5,
      "metadata": {
        "colab": {
          "base_uri": "https://localhost:8080/"
        },
        "id": "2zaJlmg4NnNj",
        "outputId": "9f31af92-8c5d-45ff-ca22-09282d1db54f"
      },
      "outputs": [
        {
          "name": "stderr",
          "output_type": "stream",
          "text": [
            "[nltk_data] Downloading package punkt to\n",
            "[nltk_data]     C:\\Users\\risha\\AppData\\Roaming\\nltk_data...\n",
            "[nltk_data]   Package punkt is already up-to-date!\n",
            "[nltk_data] Downloading package averaged_perceptron_tagger to\n",
            "[nltk_data]     C:\\Users\\risha\\AppData\\Roaming\\nltk_data...\n",
            "[nltk_data]   Package averaged_perceptron_tagger is already up-to-\n",
            "[nltk_data]       date!\n"
          ]
        },
        {
          "data": {
            "text/plain": [
              "[('There', 'EX'),\n",
              " ('is', 'VBZ'),\n",
              " ('an', 'DT'),\n",
              " ('assesment', 'NN'),\n",
              " ('in', 'IN'),\n",
              " ('AI', 'NNP'),\n",
              " ('tomorrow', 'NN')]"
            ]
          },
          "execution_count": 5,
          "metadata": {},
          "output_type": "execute_result"
        }
      ],
      "source": [
        "import nltk\n",
        "import nltk.corpus\n",
        "nltk.download('punkt')\n",
        "\n",
        "#Tokenization\n",
        "from nltk.tokenize import word_tokenize\n",
        "chess = \"Samay Raina is the best chess streamer in the world\"\n",
        "word_tokenize(chess)\n",
        "\n",
        "#sentence tokenizer\n",
        "from nltk.tokenize import sent_tokenize\n",
        "chess2 = \"Samay Raina is the best chess streamer in the world. Sagar Shah is the best chess coach in the world\"\n",
        "sent_tokenize(chess2)\n",
        "\n",
        "#Checking the number of tokens\",\n",
        "len(word_tokenize(chess))\n",
        "\n",
        "#bigrams and n-grams\n",
        "teacher = \"Can anybody hear me or am I talking to myself? My mind is running empty in the response of my students\"\n",
        "teacher_token=(word_tokenize(teacher))\n",
        "list(nltk.bigrams(teacher_token))\n",
        "\n",
        "list(nltk.trigrams(teacher_token))\n",
        "list(nltk.ngrams(teacher_token,5))\n",
        "\n",
        "#Stemming\n",
        "from nltk.stem import PorterStemmer\n",
        "my_stem = PorterStemmer()\n",
        "my_stem.stem(\"shopping\")\n",
        "my_stem.stem(\"going\")\n",
        "\n",
        "\n",
        "#pos-tagging\n",
        "tom = \"There is an assesment in AI tomorrow\"\n",
        "tom_token = word_tokenize(tom)\n",
        "nltk.download('averaged_perceptron_tagger')\n",
        "nltk.pos_tag(tom_token)\n"
      ]
    }
  ],
  "metadata": {
    "colab": {
      "provenance": []
    },
    "kernelspec": {
      "display_name": "Python 3",
      "name": "python3"
    },
    "language_info": {
      "codemirror_mode": {
        "name": "ipython",
        "version": 3
      },
      "file_extension": ".py",
      "mimetype": "text/x-python",
      "name": "python",
      "nbconvert_exporter": "python",
      "pygments_lexer": "ipython3",
      "version": "3.11.3"
    }
  },
  "nbformat": 4,
  "nbformat_minor": 0
}
