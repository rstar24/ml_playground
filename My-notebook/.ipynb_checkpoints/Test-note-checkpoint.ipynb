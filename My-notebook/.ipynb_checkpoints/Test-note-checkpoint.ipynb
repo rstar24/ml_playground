{
 "cells": [
  {
   "cell_type": "code",
   "execution_count": null,
   "id": "584fbf6a-b0cb-4337-a304-e48fc974f5ee",
   "metadata": {},
   "outputs": [],
   "source": []
  }
 ],
 "metadata": {
  "kernelspec": {
   "display_name": "Python 3 (ipykernel)",
   "language": "python",
   "name": "python3"
  },
  "language_info": {
   "codemirror_mode": {
    "name": "ipython",
    "version": 3
   },
   "file_extension": ".py",
   "mimetype": "text/x-python",
   "name": "python",
   "nbconvert_exporter": "python",
   "pygments_lexer": "ipython3",
   "version": "3.11.3"
  }
 },
 "nbformat": 4,
 "nbformat_minor": 5
}
