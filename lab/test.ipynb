{
 "cells": [
  {
   "cell_type": "markdown",
   "metadata": {},
   "source": [
    "# Problem 1\n",
    "* String Reversal: Write a Python program that takes a string as input and prints its reverse.\n"
   ]
  },
  {
   "cell_type": "code",
   "execution_count": 14,
   "metadata": {},
   "outputs": [
    {
     "name": "stdout",
     "output_type": "stream",
     "text": [
      "hbahsiR\n"
     ]
    }
   ],
   "source": [
    "a = str(input(\"Enter a string: \"))\n",
    "print(a[::-1])"
   ]
  },
  {
   "cell_type": "markdown",
   "metadata": {},
   "source": [
    "# Problem 2\n",
    "* Prime Number Checker: Create a program that checks whether a given number is prime or not"
   ]
  },
  {
   "cell_type": "code",
   "execution_count": 31,
   "metadata": {},
   "outputs": [
    {
     "name": "stdout",
     "output_type": "stream",
     "text": [
      "50 is not prime number\n"
     ]
    }
   ],
   "source": [
    "a = 50\n",
    "\n",
    "if a > 1:\n",
    "\n",
    "    for i in range(2,int(a/2)+1):\n",
    "        if(a%i) == 0:\n",
    "            print(a,\"is not prime number\")\n",
    "            break\n",
    "        else:\n",
    "            print(num,'is a prime number')\n",
    "else:\n",
    "    print(num,\"is not a prime number\")\n",
    "        \n",
    "\n",
    "\n",
    "    \n"
   ]
  },
  {
   "cell_type": "markdown",
   "metadata": {},
   "source": [
    "# Problem 5\n",
    "* Rock, Paper, Scissors Game: Develop a simple text-based rock, paper, scissors game where the user can play against the computer.\n"
   ]
  },
  {
   "cell_type": "code",
   "execution_count": 35,
   "metadata": {},
   "outputs": [
    {
     "name": "stdout",
     "output_type": "stream",
     "text": [
      "Invalid choice. Please choose rock, paper, or scissors.\n",
      "Thanks for playing!\n"
     ]
    }
   ],
   "source": [
    "import random\n",
    "\n",
    "def play_game():\n",
    "    choices = ['rock', 'paper', 'scissors']\n",
    "    computer_choice = random.choice(choices)\n",
    "    user_choice = input(\"Enter your choice (rock, paper, scissors): \").lower()\n",
    "\n",
    "    if user_choice not in choices:\n",
    "        print(\"Invalid choice. Please choose rock, paper, or scissors.\")\n",
    "        return\n",
    "\n",
    "    print(\"Computer chose:\", computer_choice)\n",
    "    print(\"You chose:\", user_choice)\n",
    "\n",
    "    if user_choice == computer_choice:\n",
    "        print(\"It's a tie!\")\n",
    "    elif (user_choice == 'rock' and computer_choice == 'scissors') or \\\n",
    "         (user_choice == 'paper' and computer_choice == 'rock') or \\\n",
    "         (user_choice == 'scissors' and computer_choice == 'paper'):\n",
    "        print(\"You win!\")\n",
    "    else:\n",
    "        print(\"You lose!\")\n",
    "\n",
    "# Main loop to play the game\n",
    "while True:\n",
    "    play_game()\n",
    "    play_again = input(\"Do you want to play again? (yes/no): \").lower()\n",
    "    if play_again != 'yes':\n",
    "        print(\"Thanks for playing!\")\n",
    "        break\n"
   ]
  },
  {
   "cell_type": "markdown",
   "metadata": {},
   "source": [
    "\n",
    "# Problem 4\n",
    "* List Manipulation"
   ]
  },
  {
   "cell_type": "code",
   "execution_count": 39,
   "metadata": {},
   "outputs": [
    {
     "name": "stdout",
     "output_type": "stream",
     "text": [
      "[2, 4, 6, 8, 10]\n"
     ]
    }
   ],
   "source": [
    "\n",
    "numbers = [1, 2, 3, 4, 5, 6, 7, 8, 9, 10]\n",
    "even_numbers = [x for x in numbers if x % 2 == 0]  \n",
    "print(even_numbers)\n"
   ]
  },
  {
   "cell_type": "code",
   "execution_count": 43,
   "metadata": {},
   "outputs": [
    {
     "name": "stdout",
     "output_type": "stream",
     "text": [
      "[2, 4]\n"
     ]
    }
   ],
   "source": [
    "numbers = [1, 2, 3, 4, 5]\n",
    "even_numbers = list(filter(lambda x: x % 2 == 0, numbers))  \n",
    "print(even_numbers)\n"
   ]
  },
  {
   "cell_type": "code",
   "execution_count": 46,
   "metadata": {},
   "outputs": [
    {
     "name": "stdout",
     "output_type": "stream",
     "text": [
      "[1, 2, 3, 1, 2, 3, 1, 2, 3]\n"
     ]
    }
   ],
   "source": [
    "list1 = [1, 2, 3]\n",
    "list2 = [4, 5, 6]\n",
    "concatenated_list = list1 + list2  \n",
    "repeated_list = list1 * 3          \n",
    "print(repeated_list)\n",
    "\n"
   ]
  },
  {
   "cell_type": "markdown",
   "metadata": {},
   "source": [
    "# Problem\n",
    "## How to validate email address\n"
   ]
  },
  {
   "cell_type": "code",
   "execution_count": 48,
   "metadata": {},
   "outputs": [
    {
     "name": "stdout",
     "output_type": "stream",
     "text": [
      "True\n",
      "False\n",
      "False\n"
     ]
    }
   ],
   "source": [
    "import re\n",
    "\n",
    "def is_valid_email(email):\n",
    "    pattern = r'^[\\w\\.-]+@[a-zA-Z\\d\\.-]+\\.[a-zA-Z]{2,}$'\n",
    "    return re.match(pattern, email) is not None\n",
    "\n",
    "# Test the function\n",
    "email1 = \"rishabhrathod20@gmail.com\"\n",
    "email2 = \"invalid_email.com\"\n",
    "email3 = \"missing@domain\"\n",
    "\n",
    "print(is_valid_email(email1))  # Output: True\n",
    "print(is_valid_email(email2))  # Output: False\n",
    "print(is_valid_email(email3))  # Output: False\n",
    "\n"
   ]
  },
  {
   "cell_type": "markdown",
   "metadata": {},
   "source": [
    "# Problem\n",
    "## String Encryption\n"
   ]
  },
  {
   "cell_type": "code",
   "execution_count": 52,
   "metadata": {},
   "outputs": [
    {
     "name": "stdout",
     "output_type": "stream",
     "text": [
      "Original Message: Hello, world!\n",
      "Encrypted Message: <elloAYworldk\n",
      "Decrypted Message: HA\u0019\u00194, \u00024T\u0019=!\n"
     ]
    }
   ],
   "source": [
    "import random\n",
    "\n",
    "def generate_cipher_key():\n",
    "    # Generate a random permutation of characters\n",
    "    alphabet = list(\"abcdefghijklmnopqrstuvwxyzABCDEFGHIJKLMNOPQRSTUVWXYZ0123456789!@#$%^&*()-_=+[{]};:'\\\",<.>/?\\\\|`~\")\n",
    "    random.shuffle(alphabet)\n",
    "    return {chr(i): alphabet[i] for i in range(0, len(alphabet))}\n",
    "\n",
    "def encrypt(message, cipher_key):\n",
    "    encrypted_message = \"\"\n",
    "    for char in message:\n",
    "        if char in cipher_key:\n",
    "            encrypted_message += cipher_key[char]\n",
    "        else:\n",
    "            encrypted_message += char\n",
    "    return encrypted_message\n",
    "\n",
    "def decrypt(encrypted_message, cipher_key):\n",
    "    reversed_cipher_key = {v: k for k, v in cipher_key.items()}\n",
    "    decrypted_message = \"\"\n",
    "    for char in encrypted_message:\n",
    "        if char in reversed_cipher_key:\n",
    "            decrypted_message += reversed_cipher_key[char]\n",
    "        else:\n",
    "            decrypted_message += char\n",
    "    return decrypted_message\n",
    "\n",
    "# Example usage\n",
    "message = \"Hello, world!\"\n",
    "key = generate_cipher_key()\n",
    "print(\"Original Message:\", message)\n",
    "\n",
    "encrypted_message = encrypt(message, key)\n",
    "print(\"Encrypted Message:\", encrypted_message)\n",
    "\n",
    "decrypted_message = decrypt(encrypted_message, key)\n",
    "print(\"Decrypted Message:\", decrypted_message)\n"
   ]
  }
 ],
 "metadata": {
  "kernelspec": {
   "display_name": "Python 3",
   "language": "python",
   "name": "python3"
  },
  "language_info": {
   "codemirror_mode": {
    "name": "ipython",
    "version": 3
   },
   "file_extension": ".py",
   "mimetype": "text/x-python",
   "name": "python",
   "nbconvert_exporter": "python",
   "pygments_lexer": "ipython3",
   "version": "3.11.3"
  }
 },
 "nbformat": 4,
 "nbformat_minor": 2
}
