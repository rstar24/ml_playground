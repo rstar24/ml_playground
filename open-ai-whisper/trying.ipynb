{
 "cells": [
  {
   "cell_type": "code",
   "execution_count": 4,
   "metadata": {},
   "outputs": [],
   "source": [
    "import whisper \n",
    "from pytube import YouTube\n",
    "\n",
    "video_url  = \"https://www.youtube.com/watch?v=iaxqTVNHFB0\"\n",
    "audio_file = YouTube(video_url).streams.filter(only_audio=True).first().download(filename=\"audio.mp4\")\n"
   ]
  },
  {
   "cell_type": "code",
   "execution_count": 5,
   "metadata": {},
   "outputs": [
    {
     "name": "stdout",
     "output_type": "stream",
     "text": [
      "c:\\Users\\risha\\OneDrive\\Desktop\\Machine_Learning\\open-ai-whisper\\audio.mp4\n"
     ]
    }
   ],
   "source": [
    "print(audio_file)"
   ]
  },
  {
   "cell_type": "code",
   "execution_count": 7,
   "metadata": {},
   "outputs": [],
   "source": [
    "\n",
    "model = whisper.load_model(\"medium\")\n",
    "# result = model.transcribe(audio_file,language=\"en\")\n",
    "# hypothesis = result[\"text\"]\n",
    "\n",
    "# print(hypothesis)\n"
   ]
  },
  {
   "cell_type": "code",
   "execution_count": 12,
   "metadata": {},
   "outputs": [
    {
     "name": "stdout",
     "output_type": "stream",
     "text": [
      " Namaste, mera naam hai Shivardhan Pathak aur aap sun rahe hain Radio 54.\n"
     ]
    }
   ],
   "source": [
    "file_2 = \"C:\\\\Users\\\\risha\\\\OneDrive\\\\Desktop\\\\Machine_Learning\\\\open-ai-whisper\\\\2.wav\"\n",
    "resutl_2 = model.transcribe(file_2,language=\"en\")\n",
    "hyp = resutl_2[\"text\"]\n",
    "print(hyp)"
   ]
  },
  {
   "cell_type": "code",
   "execution_count": null,
   "metadata": {},
   "outputs": [],
   "source": []
  }
 ],
 "metadata": {
  "kernelspec": {
   "display_name": "Python 3",
   "language": "python",
   "name": "python3"
  },
  "language_info": {
   "codemirror_mode": {
    "name": "ipython",
    "version": 3
   },
   "file_extension": ".py",
   "mimetype": "text/x-python",
   "name": "python",
   "nbconvert_exporter": "python",
   "pygments_lexer": "ipython3",
   "version": "3.11.9"
  }
 },
 "nbformat": 4,
 "nbformat_minor": 2
}
