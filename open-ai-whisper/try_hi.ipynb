{
 "cells": [
  {
   "cell_type": "code",
   "execution_count": 2,
   "metadata": {},
   "outputs": [],
   "source": [
    "import os\n",
    "import itertools\n",
    "import whisper"
   ]
  },
  {
   "cell_type": "code",
   "execution_count": 15,
   "metadata": {},
   "outputs": [
    {
     "name": "stdout",
     "output_type": "stream",
     "text": [
      "E:\\iit-bombay-internship\\vistaar\\kathbath\\hindi\\test\\audio\\153\n",
      "E:\\iit-bombay-internship\\vistaar\\kathbath\\hindi\\test\\audio\\153844424930627593-153-f.wav\n"
     ]
    }
   ],
   "source": [
    "folderpath = \"E:\\\\iit-bombay-internship\\\\vistaar\\\\kathbath\\\\hindi\\\\test\\\\audio\\\\153\"\n",
    "simplepath = \"E:\\\\iit-bombay-internship\\\\vistaar\\\\kathbath\\\\hindi\\\\test\\\\audio\\\\153\"\n",
    "\n",
    "print(simplepath)\n",
    "\n",
    "audio_files_paths = [(folderpath + x) for x in os.listdir(folderpath)]\n",
    "print(audio_files_paths[0])\n",
    "# audio_files = os.listdir(folderpath)\n",
    "# print(audio_files_paths)\n",
    "# model = whisper.load_model(\"medium\")\n",
    "# Result = { \"filePaths\": [], \"text\": []}\n",
    "\n",
    "# for audio_file in audio_files_paths:\n",
    "# result = model.transcribe(audio_files_paths[0],language=\"hi\")\n",
    "# hypothesis = result[\"text\"]\n",
    "\n",
    "# print(hypothesis)"
   ]
  },
  {
   "cell_type": "code",
   "execution_count": null,
   "metadata": {},
   "outputs": [],
   "source": []
  }
 ],
 "metadata": {
  "kernelspec": {
   "display_name": "Python 3",
   "language": "python",
   "name": "python3"
  },
  "language_info": {
   "codemirror_mode": {
    "name": "ipython",
    "version": 3
   },
   "file_extension": ".py",
   "mimetype": "text/x-python",
   "name": "python",
   "nbconvert_exporter": "python",
   "pygments_lexer": "ipython3",
   "version": "3.11.9"
  }
 },
 "nbformat": 4,
 "nbformat_minor": 2
}
